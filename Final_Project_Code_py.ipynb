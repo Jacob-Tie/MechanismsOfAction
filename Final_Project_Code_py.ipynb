{
 "cells": [
  {
   "cell_type": "markdown",
   "metadata": {},
   "source": [
    "# Final Project Code: Linear Models in Python\n",
    "# Jacob Tiede"
   ]
  },
  {
   "cell_type": "code",
   "execution_count": 1,
   "metadata": {},
   "outputs": [],
   "source": [
    "import torch\n",
    "import torch.nn as nn\n",
    "import torch.nn.functional as F\n",
    "import pandas as pd\n",
    "import numpy as np\n",
    "from sklearn.preprocessing import LabelEncoder\n",
    "from sklearn.preprocessing import Normalizer\n",
    "from sklearn.model_selection import KFold\n",
    "\n",
    "#-----------\n",
    "#Read in the data and preprocess\n",
    "#-----------\n",
    "data = pd.read_csv('./Data/train_features.csv')\n",
    "data = data.drop(['sig_id'], axis=1)\n",
    "\n",
    "#Some columns are coded with strings, need them to be numeric\n",
    "label_enc = LabelEncoder()\n",
    "data['cp_type'] = label_enc.fit_transform(data.cp_type.values)\n",
    "data['cp_time'] = label_enc.fit_transform(data.cp_time.values)\n",
    "data['cp_dose'] = label_enc.fit_transform(data.cp_dose.values)\n",
    "\n",
    "#convert to numpy:\n",
    "col_names_data = list(data.columns) #keep a list of column names for later\n",
    "data = data.to_numpy()\n",
    "\n",
    "#Column-wise normalization usually helps with these problems:\n",
    "transformer = Normalizer().fit(data)\n",
    "data = transformer.transform(data)\n",
    "#add the bias column: NOT REQUIRED, but it helps with some of the logic of the program (this could be done in pytorch automatically, by allowing the linear layer to have a bias)\n",
    "data = np.append(np.ones(data.shape[0]).reshape(-1,1), data, 1)\n",
    "\n",
    "#load in the response:\n",
    "response = pd.read_csv('./Data/train_targets_scored.csv')\n",
    "response = response.drop(['sig_id'], axis=1) #Drop ID since it cannot have a meaningful impact on explanation\n",
    "col_names_response = list(response.columns) #save a list of response column names just in case\n",
    "response = response.to_numpy()\n",
    "\n",
    "#Find k folds for k-fold cross validation:\n",
    "kf = KFold(n_splits=10, random_state = 0, shuffle = True)\n",
    "kf.get_n_splits(data)\n",
    "kcross = kf.split(data, response) #creates an iteratable that we will use later"
   ]
  },
  {
   "cell_type": "code",
   "execution_count": 2,
   "metadata": {},
   "outputs": [
    {
     "data": {
      "text/plain": [
       "<torch._C.Generator at 0x2144b068cf0>"
      ]
     },
     "execution_count": 2,
     "metadata": {},
     "output_type": "execute_result"
    }
   ],
   "source": [
    "#create the neural net class NOTE: this assumes you have a working GPU and have installed pytorch with gpu libraries\n",
    "\"\"\"\n",
    "log_reg -- a class that stores the parameters of a multivariate multiple logistic regress\n",
    "Note: This class uses a sigmoid link function instead of a logit link function\n",
    "\n",
    "@params: --input_features: int, the number of features which the model will use as predictors\n",
    "         --output_features: int, the number of expected outputs, this is the number of logistic regression models to be trained simultaniously\n",
    "\"\"\"\n",
    "class log_reg(nn.Module):\n",
    "    def __init__(self, input_features, output_features):\n",
    "        super(log_reg, self).__init__()\n",
    "        self.fc_layer = nn.Linear(input_features, output_features, bias = False)\n",
    "    def forward(self, x):\n",
    "        x = F.sigmoid(self.fc_layer(x))\n",
    "        return x\n",
    "torch.manual_seed(35) #set seed for reproducability"
   ]
  },
  {
   "cell_type": "code",
   "execution_count": 11,
   "metadata": {},
   "outputs": [
    {
     "name": "stderr",
     "output_type": "stream",
     "text": [
      "C:\\Users\\JAT\\anaconda3\\envs\\pytorch\\lib\\site-packages\\torch\\nn\\functional.py:1625: UserWarning: nn.functional.sigmoid is deprecated. Use torch.sigmoid instead.\n",
      "  warnings.warn(\"nn.functional.sigmoid is deprecated. Use torch.sigmoid instead.\")\n",
      "100% (10020 of 10020) |##################| Elapsed Time: 0:00:09 Time:  0:00:09\n",
      "  1% (103 of 10020) |                    | Elapsed Time: 0:00:00 ETA:   0:00:09"
     ]
    },
    {
     "name": "stdout",
     "output_type": "stream",
     "text": [
      "The train statistics for fold 1 were:\n",
      "accuracy: 0.9971635915063078\n",
      "loss: 0.015549170781863842\n",
      "The train statistics for fold 1 were:\n",
      "accuracy: 0.9970685187614802\n",
      "loss: 0.01800676988991531\n"
     ]
    },
    {
     "name": "stderr",
     "output_type": "stream",
     "text": [
      "100% (10020 of 10020) |##################| Elapsed Time: 0:00:09 Time:  0:00:09\n",
      "N/A% (0 of 10020) |                      | Elapsed Time: 0:00:00 ETA:  --:--:--"
     ]
    },
    {
     "name": "stdout",
     "output_type": "stream",
     "text": [
      "The train statistics for fold 2 were:\n",
      "accuracy: 0.9971545077321087\n",
      "loss: 0.015628117741738074\n",
      "The train statistics for fold 2 were:\n",
      "accuracy: 0.9971956179480451\n",
      "loss: 0.017190761436280365\n"
     ]
    },
    {
     "name": "stderr",
     "output_type": "stream",
     "text": [
      "100% (10020 of 10020) |##################| Elapsed Time: 0:00:09 Time:  0:00:09\n",
      "  1% (109 of 10020) |                    | Elapsed Time: 0:00:00 ETA:   0:00:09"
     ]
    },
    {
     "name": "stdout",
     "output_type": "stream",
     "text": [
      "The train statistics for fold 3 were:\n",
      "accuracy: 0.9971685875821173\n",
      "loss: 0.015561347609820838\n",
      "The train statistics for fold 3 were:\n",
      "accuracy: 0.9970644187877198\n",
      "loss: 0.017855714629026683\n"
     ]
    },
    {
     "name": "stderr",
     "output_type": "stream",
     "text": [
      "100% (10020 of 10020) |##################| Elapsed Time: 0:00:09 Time:  0:00:09\n",
      "  1% (104 of 10020) |                    | Elapsed Time: 0:00:00 ETA:   0:00:09"
     ]
    },
    {
     "name": "stdout",
     "output_type": "stream",
     "text": [
      "The train statistics for fold 4 were:\n",
      "accuracy: 0.9971617747514677\n",
      "loss: 0.01554152829583712\n",
      "The train statistics for fold 4 were:\n",
      "accuracy: 0.9971320683547625\n",
      "loss: 0.018008565681206214\n"
     ]
    },
    {
     "name": "stderr",
     "output_type": "stream",
     "text": [
      "100% (10020 of 10020) |##################| Elapsed Time: 0:00:09 Time:  0:00:09\n",
      "N/A% (0 of 10020) |                      | Elapsed Time: 0:00:00 ETA:  --:--:--"
     ]
    },
    {
     "name": "stdout",
     "output_type": "stream",
     "text": [
      "The train statistics for fold 5 were:\n",
      "accuracy: 0.9971590496192082\n",
      "loss: 0.015583967087333074\n",
      "The train statistics for fold 5 were:\n",
      "accuracy: 0.9971689681186041\n",
      "loss: 0.017476386541651713\n"
     ]
    },
    {
     "name": "stderr",
     "output_type": "stream",
     "text": [
      "100% (10020 of 10020) |##################| Elapsed Time: 0:00:09 Time:  0:00:09\n",
      "N/A% (0 of 10020) |                      | Elapsed Time: 0:00:00 ETA:  --:--:--"
     ]
    },
    {
     "name": "stdout",
     "output_type": "stream",
     "text": [
      "The train statistics for fold 6 were:\n",
      "accuracy: 0.9971556432038834\n",
      "loss: 0.015624830691690395\n",
      "The train statistics for fold 6 were:\n",
      "accuracy: 0.9972079178693257\n",
      "loss: 0.017235161107335542\n"
     ]
    },
    {
     "name": "stderr",
     "output_type": "stream",
     "text": [
      "100% (10020 of 10020) |##################| Elapsed Time: 0:00:09 Time:  0:00:09\n",
      "N/A% (0 of 10020) |                      | Elapsed Time: 0:00:00 ETA:  --:--:--"
     ]
    },
    {
     "name": "stdout",
     "output_type": "stream",
     "text": [
      "The train statistics for fold 7 were:\n",
      "accuracy: 0.9971592767135632\n",
      "loss: 0.015570653716804918\n",
      "The train statistics for fold 7 were:\n",
      "accuracy: 0.9971751180792442\n",
      "loss: 0.01787060801241849\n"
     ]
    },
    {
     "name": "stderr",
     "output_type": "stream",
     "text": [
      "100% (10020 of 10020) |##################| Elapsed Time: 0:00:09 Time:  0:00:09\n",
      "N/A% (0 of 10020) |                      | Elapsed Time: 0:00:00 ETA:  --:--:--"
     ]
    },
    {
     "name": "stdout",
     "output_type": "stream",
     "text": [
      "The train statistics for fold 8 were:\n",
      "accuracy: 0.997171766903087\n",
      "loss: 0.01553338622774728\n",
      "The train statistics for fold 8 were:\n",
      "accuracy: 0.9970377689582787\n",
      "loss: 0.01818494118649412\n"
     ]
    },
    {
     "name": "stderr",
     "output_type": "stream",
     "text": [
      "100% (10020 of 10020) |##################| Elapsed Time: 0:00:09 Time:  0:00:09\n",
      "N/A% (0 of 10020) |                      | Elapsed Time: 0:00:00 ETA:  --:--:--"
     ]
    },
    {
     "name": "stdout",
     "output_type": "stream",
     "text": [
      "The train statistics for fold 9 were:\n",
      "accuracy: 0.997160412185338\n",
      "loss: 0.015548926223247887\n",
      "The train statistics for fold 9 were:\n",
      "accuracy: 0.9970808186827606\n",
      "loss: 0.01803042455198797\n"
     ]
    },
    {
     "name": "stderr",
     "output_type": "stream",
     "text": [
      "100% (10020 of 10020) |##################| Elapsed Time: 0:00:09 Time:  0:00:09\n"
     ]
    },
    {
     "name": "stdout",
     "output_type": "stream",
     "text": [
      "The train statistics for fold 10 were:\n",
      "accuracy: 0.9971658624498577\n",
      "loss: 0.015575567316152379\n",
      "The train statistics for fold 10 were:\n",
      "accuracy: 0.9970767187090002\n",
      "loss: 0.017709220533032675\n"
     ]
    }
   ],
   "source": [
    "import progressbar #This is the progressbar2 library if it must be installed\n",
    "\n",
    "fold = 1 #keeps track of which fold we are on\n",
    "\n",
    "#do training loop for each fold in the K-fold cross:\n",
    "for train_index, test_index in kcross:\n",
    "    X_train, X_test = data[train_index], data[test_index]\n",
    "    y_train, y_test = response[train_index], response[test_index]\n",
    "    \n",
    "    #Initialize necessary constants like batch size, etc as well as the model:\n",
    "    model = log_reg(data.shape[1], response.shape[1]).cuda() #again requires a working gpu\n",
    "    opt = torch.optim.Adam(model.parameters()) #Initializes and tells the optimizer what parameters to keep track of\n",
    "    batch_size = 64 #This could probably be increased, but 64 seems to work well enough\n",
    "    epochs = 30\n",
    "    loss = nn.BCELoss() #Binary cross entropy loss, the loss function defined in the write up\n",
    "    batchesPerEpoch = int(np.floor(X_train.shape[0]/batch_size))\n",
    "    \n",
    "    #-----------\n",
    "    #training loop\n",
    "    #-----------\n",
    "    with progressbar.ProgressBar(max_value=epochs*batchesPerEpoch) as bar:\n",
    "        for epoch in range(epochs):\n",
    "            for i in range(batchesPerEpoch):\n",
    "                opt.zero_grad()\n",
    "                batch_x = torch.from_numpy(X_train[i*batch_size:(i+1)*batch_size,:]).float().cuda()\n",
    "                batch_y = torch.from_numpy(y_train[i*batch_size:(i+1)*batch_size,:]).cuda()\n",
    "                #forward pass:\n",
    "                out = model(batch_x)\n",
    "                batch_loss = torch.mean(loss(out, batch_y.float()))\n",
    "                batch_loss.backward()\n",
    "                opt.step()\n",
    "                bar.update(i+batchesPerEpoch*epoch)\n",
    "    #-----------            \n",
    "    #Get train stats:\n",
    "    #-----------\n",
    "    accuracy = []\n",
    "    test_loss = []\n",
    "    model.eval()\n",
    "    with torch.no_grad():\n",
    "        for i in range(batchesPerEpoch):\n",
    "            batch_x = torch.from_numpy(X_train[i*batch_size:(i+1)*batch_size,:]).float().cuda()\n",
    "            batch_y = torch.from_numpy(y_train[i*batch_size:(i+1)*batch_size,:]).cuda()\n",
    "            out = model(batch_x)\n",
    "            test_loss.append(torch.mean(loss(out, batch_y.float())).item()) \n",
    "            accuracy.append(torch.sum(torch.round(out) == batch_y).item()/(out.shape[0]*out.shape[1]))\n",
    "    print(\"The train statistics for fold \" + str(fold) + \" were:\")\n",
    "    print(\"accuracy: \" + str(np.mean(accuracy)))\n",
    "    print(\"loss: \" + str(np.mean(test_loss)))    \n",
    "    \n",
    "    #-----------\n",
    "    #Get test stats:\n",
    "    #-----------\n",
    "    accuracy = []\n",
    "    test_loss = []\n",
    "    batches = int(np.floor(X_test.shape[0]/batch_size))\n",
    "    with torch.no_grad():\n",
    "        for i in range(batches):\n",
    "            batch_x = torch.from_numpy(X_test[i*batch_size:(i+1)*batch_size,:]).float().cuda()\n",
    "            batch_y = torch.from_numpy(y_test[i*batch_size:(i+1)*batch_size,:]).cuda()\n",
    "            out = model(batch_x)\n",
    "            test_loss.append(torch.mean(loss(out, batch_y.float())).item()) \n",
    "            accuracy.append(torch.sum(torch.round(out) == batch_y).item()/(out.shape[0]*out.shape[1]))\n",
    "    print(\"The train statistics for fold \" + str(fold) + \" were:\")\n",
    "    print(\"accuracy: \" + str(np.mean(accuracy)))\n",
    "    print(\"loss: \" + str(np.mean(test_loss)))  \n",
    "    fold += 1\n",
    "    \n",
    "    "
   ]
  },
  {
   "cell_type": "code",
   "execution_count": 12,
   "metadata": {},
   "outputs": [
    {
     "name": "stderr",
     "output_type": "stream",
     "text": [
      "100% (50 of 50) |########################| Elapsed Time: 0:09:06 Time:  0:09:06\n"
     ]
    }
   ],
   "source": [
    "# To get p-values of the coefficients we need standard errors, to do this we will use bootstrapping:\n",
    "n = 50 #number of bootstrapped samples to consider\n",
    "m = int(data.shape[0]*99/100) #number of bootstrapped samples\n",
    "boot_coeff = torch.zeros(206,876,n) #3D array of coefficients dimension each slice along dim 2 is a mxn matrix of parameters\n",
    "\n",
    "#Also going to use this to test my chi-squared test for model sufficiency, for which we'll need to record some stuff:\n",
    "boot_pred = np.zeros((m,response.shape[1], n))\n",
    "boot_response = np.zeros((m,response.shape[1], n))\n",
    "\"\"\"\n",
    "generateBootSample -- generates a sample of rows from X and y with replacement\n",
    "\n",
    "@params -- X a numpy array to sample \n",
    "        -- y a second numpy array to generate the same sample from\n",
    "        -- size an int for the size of the bootstrapped sample\n",
    "\"\"\"\n",
    "def generateBootSample(X,y, size):\n",
    "    samples = torch.randint(0, int(X.shape[0]), (size, 1)).view(-1).numpy()\n",
    "    \n",
    "    return X[samples, :], y[samples,:]\n",
    "\n",
    "#-----------\n",
    "#train a model for each bootstrapped sample required, store the parameters in boot_coeff for each one\n",
    "#-----------\n",
    "with progressbar.ProgressBar(max_value=n) as bar:\n",
    "    for sample in range(n):\n",
    "        X_train, y_train = generateBootSample(data, response, m)\n",
    "        #Initialize necessary constants like batch size, etc as well as the model:\n",
    "        model = log_reg(data.shape[1], response.shape[1]).cuda()\n",
    "        opt = torch.optim.Adam(model.parameters())\n",
    "        batch_size = 64\n",
    "        epochs = 30\n",
    "        loss = nn.BCELoss()\n",
    "        batchesPerEpoch = int(np.floor(X_train.shape[0]/batch_size))\n",
    "\n",
    "        for epoch in range(epochs):\n",
    "            for i in range(batchesPerEpoch):\n",
    "                opt.zero_grad()\n",
    "                batch_x = torch.from_numpy(X_train[i*batch_size:(i+1)*batch_size,:]).float().cuda()\n",
    "                batch_y = torch.from_numpy(y_train[i*batch_size:(i+1)*batch_size,:]).cuda()\n",
    "                #forward pass:\n",
    "                out = model(batch_x)\n",
    "                batch_loss = torch.mean(loss(out, batch_y.float()))\n",
    "                batch_loss.backward()\n",
    "                opt.step()\n",
    "        \n",
    "        #-----------\n",
    "        #Get stuff required to evaluate the chi-squared test later\n",
    "        #-----------\n",
    "        boot_response[:,:,sample] = y_train\n",
    "        model.eval()\n",
    "        with torch.no_grad():\n",
    "            for i in range(batchesPerEpoch):\n",
    "                batch_x = torch.from_numpy(X_train[i*batch_size:(i+1)*batch_size,:]).float().cuda()\n",
    "                batch_y = torch.from_numpy(y_train[i*batch_size:(i+1)*batch_size,:]).cuda()\n",
    "                out = model(batch_x)\n",
    "                boot_pred[i*batch_size:(i+1)*batch_size,:, sample] = out.detach().cpu().numpy()\n",
    "                \n",
    "        bar.update(sample)\n",
    "        for param in model.parameters():\n",
    "            boot_coeff[:,:,sample] = param.detach().cpu()"
   ]
  },
  {
   "cell_type": "code",
   "execution_count": 13,
   "metadata": {},
   "outputs": [
    {
     "name": "stderr",
     "output_type": "stream",
     "text": [
      "100% (10020 of 10020) |##################| Elapsed Time: 0:00:11 Time:  0:00:11\n"
     ]
    },
    {
     "name": "stdout",
     "output_type": "stream",
     "text": [
      "The train statistics for the full model:\n",
      "accuracy: 0.9971699501482473\n",
      "loss: 0.01553173159377393\n",
      "The train statistics for the full model were:\n",
      "accuracy: 0.9970726187352399\n",
      "loss: 0.017991432441851578\n"
     ]
    }
   ],
   "source": [
    "standard_errors = torch.std(boot_coeff, dim = 2) #estimate the standard error of the coefficients using the bootstrapped sample\n",
    "\n",
    "#-----------\n",
    "#train a final model:\n",
    "#-----------\n",
    "from sklearn.model_selection import train_test_split\n",
    "X_train, X_test, y_train, y_test = train_test_split(data, response, test_size=0.1, random_state=0) #create a final split\n",
    "\n",
    "#Initialize necessary constants like batch size, etc as well as the model:\n",
    "model = log_reg(data.shape[1], response.shape[1]).cuda()\n",
    "opt = torch.optim.Adam(model.parameters())\n",
    "batch_size = 64\n",
    "epochs = 30\n",
    "loss = nn.BCELoss()\n",
    "batchesPerEpoch = int(np.floor(X_train.shape[0]/batch_size))\n",
    "\n",
    "#-----------\n",
    "#training loop\n",
    "#-----------\n",
    "with progressbar.ProgressBar(max_value=epochs*batchesPerEpoch) as bar:\n",
    "    for epoch in range(epochs):\n",
    "        for i in range(batchesPerEpoch):\n",
    "            opt.zero_grad()\n",
    "            batch_x = torch.from_numpy(X_train[i*batch_size:(i+1)*batch_size,:]).float().cuda()\n",
    "            batch_y = torch.from_numpy(y_train[i*batch_size:(i+1)*batch_size,:]).cuda()\n",
    "            #forward pass:\n",
    "            out = model(batch_x)\n",
    "            batch_loss = torch.mean(loss(out, batch_y.float()))\n",
    "            batch_loss.backward()\n",
    "            opt.step()\n",
    "            bar.update(i+batchesPerEpoch*epoch)\n",
    "\n",
    "#-----------\n",
    "#Get train stats:\n",
    "#-----------\n",
    "accuracy = []\n",
    "test_loss = []\n",
    "model.eval()\n",
    "pred_probs = np.zeros(y_train.shape)\n",
    "with torch.no_grad():\n",
    "    for i in range(batchesPerEpoch):\n",
    "        batch_x = torch.from_numpy(X_train[i*batch_size:(i+1)*batch_size,:]).float().cuda()\n",
    "        batch_y = torch.from_numpy(y_train[i*batch_size:(i+1)*batch_size,:]).cuda()\n",
    "        out = model(batch_x)\n",
    "        pred_probs[i*batch_size:(i+1)*batch_size,:] = out.cpu().numpy()\n",
    "        test_loss.append(torch.mean(loss(out, batch_y.float())).item()) \n",
    "        accuracy.append(torch.sum(torch.round(out) == batch_y).item()/(out.shape[0]*out.shape[1]))\n",
    "print(\"The train statistics for the full model:\")\n",
    "print(\"accuracy: \" + str(np.mean(accuracy)))\n",
    "print(\"loss: \" + str(np.mean(test_loss)))  \n",
    "\n",
    "#-----------\n",
    "#Get test stats:\n",
    "#-----------\n",
    "accuracy = []\n",
    "test_loss = []\n",
    "batches = int(np.floor(X_test.shape[0]/batch_size))\n",
    "pred_probs_test = np.zeros(y_test.shape)\n",
    "with torch.no_grad():\n",
    "    for i in range(batches):\n",
    "        batch_x = torch.from_numpy(X_test[i*batch_size:(i+1)*batch_size,:]).float().cuda()\n",
    "        batch_y = torch.from_numpy(y_test[i*batch_size:(i+1)*batch_size,:]).cuda()\n",
    "        out = model(batch_x)\n",
    "        pred_probs_test[i*batch_size:(i+1)*batch_size,:] = out.cpu().numpy()\n",
    "        test_loss.append(torch.mean(loss(out, batch_y.float())).item()) \n",
    "        accuracy.append(torch.sum(torch.round(out) == batch_y).item()/(out.shape[0]*out.shape[1]))\n",
    "print(\"The train statistics for the full model were:\")\n",
    "print(\"accuracy: \" + str(np.mean(accuracy)))\n",
    "print(\"loss: \" + str(np.mean(test_loss)))  \n",
    "\n",
    "#-----------\n",
    "#get p-values for coefficients:\n",
    "#-----------\n",
    "#get z-scores of the paramters\n",
    "for param in model.parameters():\n",
    "    z_scores = torch.abs(torch.div(param.detach().cpu(), standard_errors)).numpy()\n",
    "\n",
    "#get the p-values\n",
    "from scipy.stats import norm\n",
    "p_vals = 1 - norm.cdf(z_scores)"
   ]
  },
  {
   "cell_type": "code",
   "execution_count": 14,
   "metadata": {},
   "outputs": [
    {
     "name": "stdout",
     "output_type": "stream",
     "text": [
      "The lowest p-value:\n",
      "0.0\n",
      "The highest p-value:\n",
      "0.499997732682243\n",
      "The proportion of parameters that are significant (across all models):\n",
      "0.6904009841734273\n",
      "The number of predictors that are non-significant in all models:\n",
      "0\n",
      "The number of predictors that are non-significant in all but 10 or less models:\n",
      "1\n",
      "The number of predictors that are non-significant in all but 50 or less models:\n",
      "108\n"
     ]
    }
   ],
   "source": [
    "print(\"The lowest p-value:\")\n",
    "print(np.min(p_vals))\n",
    "print(\"The highest p-value:\")\n",
    "print(np.max(p_vals))\n",
    "print(\"The proportion of parameters that are significant (across all models):\")\n",
    "print(np.sum(p_vals < .05)/(p_vals.shape[0]*p_vals.shape[1]))\n",
    "\n",
    "count = 0\n",
    "for i in range(p_vals.shape[1]):\n",
    "    if np.sum(p_vals[:,i]<.05) == 0:\n",
    "        count += 1\n",
    "print(\"The number of predictors that are non-significant in all models:\")\n",
    "print(count)\n",
    "count = 0\n",
    "for i in range(p_vals.shape[1]):\n",
    "    if np.sum(p_vals[:,i]<.05) <= 10:\n",
    "        count += 1\n",
    "print(\"The number of predictors that are non-significant in all but 10 or less models:\")\n",
    "print(count)\n",
    "\n",
    "count = 0\n",
    "for i in range(p_vals.shape[1]):\n",
    "    if np.sum(p_vals[:,i]<.05) <= 50:\n",
    "        count += 1\n",
    "print(\"The number of predictors that are non-significant in all but 50 or less models:\")\n",
    "print(count)"
   ]
  },
  {
   "cell_type": "code",
   "execution_count": 15,
   "metadata": {},
   "outputs": [
    {
     "name": "stdout",
     "output_type": "stream",
     "text": [
      "Number of insufficient models: 0\n"
     ]
    }
   ],
   "source": [
    "#Lastly let's code a chi squared test for this:\n",
    "#Inspiration for some of this code: \n",
    "#https://stackoverflow.com/questions/50975774/calculate-residual-deviance-from-scikit-learn-logistic-regression-model\n",
    "from sklearn.metrics import log_loss\n",
    "\"\"\"\n",
    "resid_dev -- given predicted probabilities and actual realizations return the residual deviance\n",
    "\n",
    "@params: --pred_probs - a numpy array of predicted probabiliities\n",
    "         --y - a numpy array of actual classifications\n",
    "\"\"\"\n",
    "def resid_dev(pred_probs, y):\n",
    "    out = np.zeros(y.shape[1])\n",
    "    for i in range(y.shape[1]):\n",
    "        out[i] = 2*log_loss(y[:,i], pred_probs[:,i], normalize=False, labels = [0,1])\n",
    "    return out\n",
    "\n",
    "deviances = resid_dev(pred_probs, y_train) #find the residual deviances of the model\n",
    "\n",
    "#this is the residual deviance so we can construct chi squared tests for all of them (to see if the current model is sufficient)\n",
    "dof = response.shape[0] - data.shape[1] #degrees of freedom\n",
    "\n",
    "#-----------\n",
    "#Do the chi-squared test for model sufficiency\n",
    "#-----------\n",
    "from scipy.stats import chi2\n",
    "test_pvals = 1-chi2.cdf(deviances, dof)\n",
    "print(\"Number of insufficient models: \" + str(np.sum(test_pvals<.05)))"
   ]
  },
  {
   "cell_type": "code",
   "execution_count": 16,
   "metadata": {},
   "outputs": [
    {
     "data": {
      "image/png": "[encoded data removed]",
      "text/plain": [
       "<Figure size 432x288 with 1 Axes>"
      ]
     },
     "metadata": {
      "needs_background": "light"
     },
     "output_type": "display_data"
    }
   ],
   "source": [
    "import matplotlib.pyplot as plt\n",
    "#-----------\n",
    "#A way to check this test is to see if a chi squared distribution does look like the density given by the bootstrapped samples from above:\n",
    "#-----------\n",
    "devs = []\n",
    "for i in range(boot_pred.shape[2]):\n",
    "    devs.append(resid_dev(boot_pred[:,1,i].reshape(-1,1), boot_response[:,1,i].reshape(-1,1))[0])\n",
    "\n",
    "x = np.linspace(np.min(devs)-1, np.max(devs)+1, 1000)\n",
    "plt.plot(x, chi2.pdf(x, 180), label='Predicted pdf w/ 180 df')\n",
    "plt.hist(devs, density = True)\n",
    "plt.legend(loc = 'best')\n",
    "plt.title(\"Predicted Chi2 pdf and Observed Density Histogram\")\n",
    "plt.show()"
   ]
  },
  {
   "cell_type": "code",
   "execution_count": 17,
   "metadata": {},
   "outputs": [
    {
     "data": {
      "image/png": "[encoded data removed]",
      "text/plain": [
       "<Figure size 432x288 with 1 Axes>"
      ]
     },
     "metadata": {
      "needs_background": "light"
     },
     "output_type": "display_data"
    }
   ],
   "source": [
    "devs = []\n",
    "for i in range(boot_pred.shape[2]):\n",
    "    devs.append(resid_dev(boot_pred[:,0,i].reshape(-1,1), boot_response[:,0,i].reshape(-1,1))[0])\n",
    "\n",
    "x = np.linspace(np.min(devs)-1, np.max(devs)+1, 1000)\n",
    "plt.plot(x, chi2.pdf(x, 180), label='Predicted pdf w/ 180 df')\n",
    "plt.hist(devs, density = True)\n",
    "plt.legend(loc = 'best')\n",
    "plt.title(\"Predicted Chi2 pdf and Observed Density Histogram\")\n",
    "plt.show()"
   ]
  },
  {
   "cell_type": "code",
   "execution_count": 18,
   "metadata": {},
   "outputs": [
    {
     "name": "stdout",
     "output_type": "stream",
     "text": [
      "Number of insufficient models: 206\n"
     ]
    }
   ],
   "source": [
    "#A quick sanity check that giving random data will produce only insufficient models:\n",
    "deviances2 = resid_dev(np.random.rand(response.shape[0],response.shape[1]), response)\n",
    "\n",
    "#this is the residual deviance so we can construct chi squared tests for all of them (to see if the current model is sufficient)\n",
    "dof = response.shape[0] - data.shape[1]\n",
    "\n",
    "from scipy.stats import chi2\n",
    "test_pvals = 1-chi2.cdf(deviances2, dof)\n",
    "print(\"Number of insufficient models: \" + str(np.sum(test_pvals<.05)))"
   ]
  },
  {
   "cell_type": "code",
   "execution_count": 19,
   "metadata": {},
   "outputs": [
    {
     "name": "stdout",
     "output_type": "stream",
     "text": [
      "The confusion matrix for this model on the train set is:\n",
      "[[21357.57281553   104.95145631]\n",
      " [  163.83980583   117.75242718]]\n",
      "The confusion matrix for this model on the test set is:\n",
      "[[2373.64563107  196.67475728]\n",
      " [ 203.44660194  197.95145631]]\n"
     ]
    }
   ],
   "source": [
    "#-----------\n",
    "#Look at an aggregated confusion matrix of the models (take average values for the matrices)\n",
    "#-----------\n",
    "from sklearn.metrics import confusion_matrix\n",
    "conf_matrix = np.zeros((2,2,pred_probs.shape[1]))\n",
    "for i in range(pred_probs.shape[1]):\n",
    "    conf_matrix[:,:,i] = confusion_matrix(y_train[:,i], np.round(pred_probs[:,i]))\n",
    "print(\"The confusion matrix for this model on the train set is:\")\n",
    "print(np.mean(conf_matrix, axis = 2))\n",
    "\n",
    "conf_matrix = np.zeros((2,2,pred_probs_test.shape[1]))\n",
    "for i in range(pred_probs_test.shape[1]):\n",
    "    conf_matrix[:,:,i] = confusion_matrix(y_test[:,i], np.round(pred_probs_test[:,i]))\n",
    "print(\"The confusion matrix for this model on the test set is:\")\n",
    "print(np.mean(conf_matrix, axis = 2))"
   ]
  },
  {
   "cell_type": "markdown",
   "metadata": {},
   "source": [
    "# Dimensionality Reduction Via VIF\n",
    "Results indicate that any split of the data is sufficient and will yeild simular training. Now look at VIF:"
   ]
  },
  {
   "cell_type": "code",
   "execution_count": 9,
   "metadata": {},
   "outputs": [
    {
     "name": "stderr",
     "output_type": "stream",
     "text": [
      "100% (875 of 875) |######################| Elapsed Time: 0:12:30 Time:  0:12:30\n"
     ]
    }
   ],
   "source": [
    "from sklearn.linear_model import LinearRegression\n",
    "\"\"\"\n",
    "VIF -- find the variance inflation factor for each column of a given matrix\n",
    "\n",
    "@params: --X: a numpy array which we will find VIFs for\n",
    "\"\"\"\n",
    "def VIF(X):\n",
    "    vifs = []\n",
    "    with progressbar.ProgressBar(max_value=int(X.shape[1])) as bar:\n",
    "        for i in range(X.shape[1]):\n",
    "            #Create an array which excludes the ith column\n",
    "            relCols = [j for j in range(X.shape[1]) if j != i] \n",
    "            x = X[:, relCols]\n",
    "            \n",
    "            #fit a linear model onto the excluded column\n",
    "            reg = LinearRegression().fit(x, X[:,i])\n",
    "            vifs.append(1/(1-reg.score(x, X[:,i])))\n",
    "            bar.update(i)\n",
    "    return vifs\n",
    "\n",
    "\n",
    "vifs = VIF(X_train[:, 1:X_train.shape[0]]) #drop bias column for this calculation\n"
   ]
  },
  {
   "cell_type": "code",
   "execution_count": 10,
   "metadata": {},
   "outputs": [
    {
     "name": "stdout",
     "output_type": "stream",
     "text": [
      "The max VIF for the base model was 8.269421633323343\n",
      "The condition number of the base matrix is: 41.52752960126006\n"
     ]
    }
   ],
   "source": [
    "print(\"The max VIF for the base model was \" + str(max(vifs)))\n",
    "print(\"The condition number of the base matrix is: \" + str(np.linalg.cond(X_train[:,1:X_train.shape[1]])))"
   ]
  },
  {
   "cell_type": "code",
   "execution_count": 11,
   "metadata": {},
   "outputs": [
    {
     "name": "stdout",
     "output_type": "stream",
     "text": [
      "The condition number of this iteration is: 40.86190704387075\n"
     ]
    },
    {
     "name": "stderr",
     "output_type": "stream",
     "text": [
      "100% (874 of 874) |######################| Elapsed Time: 0:12:12 Time:  0:12:12\n"
     ]
    },
    {
     "name": "stdout",
     "output_type": "stream",
     "text": [
      "The condition number of this iteration is: 40.38941847312909\n"
     ]
    },
    {
     "name": "stderr",
     "output_type": "stream",
     "text": [
      "100% (873 of 873) |######################| Elapsed Time: 0:11:28 Time:  0:11:28\n"
     ]
    },
    {
     "name": "stdout",
     "output_type": "stream",
     "text": [
      "The condition number of this iteration is: 40.21960258021064\n"
     ]
    },
    {
     "name": "stderr",
     "output_type": "stream",
     "text": [
      "100% (872 of 872) |######################| Elapsed Time: 0:11:00 Time:  0:11:00\n"
     ]
    },
    {
     "name": "stdout",
     "output_type": "stream",
     "text": [
      "The condition number of this iteration is: 40.14979175921387\n"
     ]
    },
    {
     "name": "stderr",
     "output_type": "stream",
     "text": [
      "100% (871 of 871) |######################| Elapsed Time: 0:11:25 Time:  0:11:25\n"
     ]
    },
    {
     "name": "stdout",
     "output_type": "stream",
     "text": [
      "The condition number of this iteration is: 40.05845990783548\n"
     ]
    },
    {
     "name": "stderr",
     "output_type": "stream",
     "text": [
      "100% (870 of 870) |######################| Elapsed Time: 0:10:45 Time:  0:10:45\n"
     ]
    },
    {
     "name": "stdout",
     "output_type": "stream",
     "text": [
      "The condition number of this iteration is: 40.05594799971745\n"
     ]
    },
    {
     "name": "stderr",
     "output_type": "stream",
     "text": [
      "100% (869 of 869) |######################| Elapsed Time: 0:10:54 Time:  0:10:54\n"
     ]
    },
    {
     "name": "stdout",
     "output_type": "stream",
     "text": [
      "The condition number of this iteration is: 40.0444410025309\n"
     ]
    },
    {
     "name": "stderr",
     "output_type": "stream",
     "text": [
      "100% (868 of 868) |######################| Elapsed Time: 0:10:48 Time:  0:10:48\n"
     ]
    },
    {
     "name": "stdout",
     "output_type": "stream",
     "text": [
      "The condition number of this iteration is: 40.00297380345969\n"
     ]
    },
    {
     "name": "stderr",
     "output_type": "stream",
     "text": [
      "100% (867 of 867) |######################| Elapsed Time: 0:10:52 Time:  0:10:52\n"
     ]
    },
    {
     "name": "stdout",
     "output_type": "stream",
     "text": [
      "The condition number of this iteration is: 39.97294259689092\n"
     ]
    },
    {
     "name": "stderr",
     "output_type": "stream",
     "text": [
      "100% (866 of 866) |######################| Elapsed Time: 0:10:48 Time:  0:10:48\n"
     ]
    },
    {
     "name": "stdout",
     "output_type": "stream",
     "text": [
      "The condition number of this iteration is: 39.908841039099755\n"
     ]
    },
    {
     "name": "stderr",
     "output_type": "stream",
     "text": [
      "100% (865 of 865) |######################| Elapsed Time: 0:10:47 Time:  0:10:47\n"
     ]
    },
    {
     "name": "stdout",
     "output_type": "stream",
     "text": [
      "The condition number of this iteration is: 39.89389454520559\n"
     ]
    },
    {
     "name": "stderr",
     "output_type": "stream",
     "text": [
      "100% (864 of 864) |######################| Elapsed Time: 0:10:51 Time:  0:10:51\n"
     ]
    },
    {
     "name": "stdout",
     "output_type": "stream",
     "text": [
      "The condition number of this iteration is: 39.67396218099479\n"
     ]
    },
    {
     "name": "stderr",
     "output_type": "stream",
     "text": [
      "100% (863 of 863) |######################| Elapsed Time: 0:10:51 Time:  0:10:51\n"
     ]
    },
    {
     "name": "stdout",
     "output_type": "stream",
     "text": [
      "The condition number of this iteration is: 39.581316225658\n"
     ]
    },
    {
     "name": "stderr",
     "output_type": "stream",
     "text": [
      "100% (862 of 862) |######################| Elapsed Time: 0:10:48 Time:  0:10:48\n"
     ]
    },
    {
     "name": "stdout",
     "output_type": "stream",
     "text": [
      "The condition number of this iteration is: 39.544635136354486\n"
     ]
    },
    {
     "name": "stderr",
     "output_type": "stream",
     "text": [
      "100% (861 of 861) |######################| Elapsed Time: 0:10:39 Time:  0:10:39\n"
     ]
    },
    {
     "name": "stdout",
     "output_type": "stream",
     "text": [
      "The condition number of this iteration is: 39.466460826740864\n"
     ]
    },
    {
     "name": "stderr",
     "output_type": "stream",
     "text": [
      "100% (860 of 860) |######################| Elapsed Time: 0:10:36 Time:  0:10:36\n"
     ]
    },
    {
     "name": "stdout",
     "output_type": "stream",
     "text": [
      "The condition number of this iteration is: 39.45079956018348\n"
     ]
    },
    {
     "name": "stderr",
     "output_type": "stream",
     "text": [
      "100% (859 of 859) |######################| Elapsed Time: 0:10:30 Time:  0:10:30\n"
     ]
    },
    {
     "name": "stdout",
     "output_type": "stream",
     "text": [
      "The condition number of this iteration is: 37.808918661018815\n"
     ]
    },
    {
     "name": "stderr",
     "output_type": "stream",
     "text": [
      "100% (858 of 858) |######################| Elapsed Time: 0:11:01 Time:  0:11:01\n"
     ]
    },
    {
     "name": "stdout",
     "output_type": "stream",
     "text": [
      "The condition number of this iteration is: 37.80349283672296\n"
     ]
    },
    {
     "name": "stderr",
     "output_type": "stream",
     "text": [
      "100% (857 of 857) |######################| Elapsed Time: 0:10:40 Time:  0:10:40\n"
     ]
    },
    {
     "name": "stdout",
     "output_type": "stream",
     "text": [
      "The condition number of this iteration is: 37.68915466769941\n"
     ]
    },
    {
     "name": "stderr",
     "output_type": "stream",
     "text": [
      "100% (856 of 856) |######################| Elapsed Time: 0:10:47 Time:  0:10:47\n"
     ]
    },
    {
     "name": "stdout",
     "output_type": "stream",
     "text": [
      "The condition number of this iteration is: 37.44954606196908\n"
     ]
    },
    {
     "name": "stderr",
     "output_type": "stream",
     "text": [
      "100% (855 of 855) |######################| Elapsed Time: 0:10:37 Time:  0:10:37\n"
     ]
    },
    {
     "name": "stdout",
     "output_type": "stream",
     "text": [
      "The condition number of this iteration is: 37.39867452052772\n"
     ]
    },
    {
     "name": "stderr",
     "output_type": "stream",
     "text": [
      "100% (854 of 854) |######################| Elapsed Time: 0:10:39 Time:  0:10:39\n"
     ]
    },
    {
     "name": "stdout",
     "output_type": "stream",
     "text": [
      "The condition number of this iteration is: 37.3960878026293\n"
     ]
    },
    {
     "name": "stderr",
     "output_type": "stream",
     "text": [
      "100% (853 of 853) |######################| Elapsed Time: 0:10:37 Time:  0:10:37\n"
     ]
    },
    {
     "name": "stdout",
     "output_type": "stream",
     "text": [
      "The condition number of this iteration is: 37.32014799340859\n"
     ]
    },
    {
     "name": "stderr",
     "output_type": "stream",
     "text": [
      "100% (852 of 852) |######################| Elapsed Time: 0:10:54 Time:  0:10:54\n"
     ]
    },
    {
     "name": "stdout",
     "output_type": "stream",
     "text": [
      "The condition number of this iteration is: 37.21154368549519\n"
     ]
    },
    {
     "name": "stderr",
     "output_type": "stream",
     "text": [
      "100% (851 of 851) |######################| Elapsed Time: 0:10:28 Time:  0:10:28\n"
     ]
    },
    {
     "name": "stdout",
     "output_type": "stream",
     "text": [
      "The condition number of this iteration is: 34.943413039218896\n"
     ]
    },
    {
     "name": "stderr",
     "output_type": "stream",
     "text": [
      "100% (850 of 850) |######################| Elapsed Time: 0:10:32 Time:  0:10:32\n"
     ]
    },
    {
     "name": "stdout",
     "output_type": "stream",
     "text": [
      "The condition number of this iteration is: 34.91771296668034\n"
     ]
    },
    {
     "name": "stderr",
     "output_type": "stream",
     "text": [
      "100% (849 of 849) |######################| Elapsed Time: 0:10:44 Time:  0:10:44\n"
     ]
    },
    {
     "name": "stdout",
     "output_type": "stream",
     "text": [
      "The condition number of this iteration is: 34.87552574448633\n"
     ]
    },
    {
     "name": "stderr",
     "output_type": "stream",
     "text": [
      "100% (848 of 848) |######################| Elapsed Time: 0:10:30 Time:  0:10:30\n"
     ]
    },
    {
     "name": "stdout",
     "output_type": "stream",
     "text": [
      "The condition number of this iteration is: 34.85580142937162\n"
     ]
    },
    {
     "name": "stderr",
     "output_type": "stream",
     "text": [
      "100% (847 of 847) |######################| Elapsed Time: 0:10:21 Time:  0:10:21\n"
     ]
    },
    {
     "name": "stdout",
     "output_type": "stream",
     "text": [
      "The condition number of this iteration is: 34.841538516154365\n"
     ]
    },
    {
     "name": "stderr",
     "output_type": "stream",
     "text": [
      "100% (846 of 846) |######################| Elapsed Time: 0:09:55 Time:  0:09:55\n"
     ]
    },
    {
     "name": "stdout",
     "output_type": "stream",
     "text": [
      "The condition number of this iteration is: 34.83177917131003\n"
     ]
    },
    {
     "name": "stderr",
     "output_type": "stream",
     "text": [
      "100% (845 of 845) |######################| Elapsed Time: 0:09:56 Time:  0:09:56\n"
     ]
    },
    {
     "name": "stdout",
     "output_type": "stream",
     "text": [
      "The condition number of this iteration is: 34.82201148370746\n"
     ]
    },
    {
     "name": "stderr",
     "output_type": "stream",
     "text": [
      "100% (844 of 844) |######################| Elapsed Time: 0:09:55 Time:  0:09:55\n"
     ]
    },
    {
     "name": "stdout",
     "output_type": "stream",
     "text": [
      "The condition number of this iteration is: 34.7820195375577\n"
     ]
    },
    {
     "name": "stderr",
     "output_type": "stream",
     "text": [
      "100% (843 of 843) |######################| Elapsed Time: 0:09:53 Time:  0:09:53\n"
     ]
    },
    {
     "name": "stdout",
     "output_type": "stream",
     "text": [
      "The condition number of this iteration is: 34.7459424377119\n"
     ]
    },
    {
     "name": "stderr",
     "output_type": "stream",
     "text": [
      "100% (842 of 842) |######################| Elapsed Time: 0:09:52 Time:  0:09:52\n"
     ]
    },
    {
     "name": "stdout",
     "output_type": "stream",
     "text": [
      "The condition number of this iteration is: 34.22708376583285\n"
     ]
    },
    {
     "name": "stderr",
     "output_type": "stream",
     "text": [
      "100% (841 of 841) |######################| Elapsed Time: 0:09:48 Time:  0:09:48\n"
     ]
    },
    {
     "name": "stdout",
     "output_type": "stream",
     "text": [
      "The condition number of this iteration is: 34.214851163712474\n"
     ]
    },
    {
     "name": "stderr",
     "output_type": "stream",
     "text": [
      "100% (840 of 840) |######################| Elapsed Time: 0:09:48 Time:  0:09:48\n"
     ]
    },
    {
     "name": "stdout",
     "output_type": "stream",
     "text": [
      "The condition number of this iteration is: 34.198268993021145\n"
     ]
    },
    {
     "name": "stderr",
     "output_type": "stream",
     "text": [
      "100% (839 of 839) |######################| Elapsed Time: 0:09:45 Time:  0:09:45\n"
     ]
    },
    {
     "name": "stdout",
     "output_type": "stream",
     "text": [
      "The condition number of this iteration is: 31.604936092780413\n"
     ]
    },
    {
     "name": "stderr",
     "output_type": "stream",
     "text": [
      "100% (838 of 838) |######################| Elapsed Time: 0:09:40 Time:  0:09:40\n"
     ]
    },
    {
     "name": "stdout",
     "output_type": "stream",
     "text": [
      "The condition number of this iteration is: 31.57925959616027\n"
     ]
    },
    {
     "name": "stderr",
     "output_type": "stream",
     "text": [
      "100% (837 of 837) |######################| Elapsed Time: 0:09:38 Time:  0:09:38\n"
     ]
    },
    {
     "name": "stdout",
     "output_type": "stream",
     "text": [
      "The condition number of this iteration is: 31.46114708658209\n"
     ]
    },
    {
     "name": "stderr",
     "output_type": "stream",
     "text": [
      "100% (836 of 836) |######################| Elapsed Time: 0:09:40 Time:  0:09:40\n"
     ]
    },
    {
     "name": "stdout",
     "output_type": "stream",
     "text": [
      "The condition number of this iteration is: 31.248830394099308\n"
     ]
    },
    {
     "name": "stderr",
     "output_type": "stream",
     "text": [
      "100% (835 of 835) |######################| Elapsed Time: 0:09:32 Time:  0:09:32\n"
     ]
    },
    {
     "name": "stdout",
     "output_type": "stream",
     "text": [
      "The condition number of this iteration is: 31.104170839960517\n"
     ]
    },
    {
     "name": "stderr",
     "output_type": "stream",
     "text": [
      "100% (834 of 834) |######################| Elapsed Time: 0:09:30 Time:  0:09:30\n"
     ]
    },
    {
     "name": "stdout",
     "output_type": "stream",
     "text": [
      "The condition number of this iteration is: 31.07533593715494\n"
     ]
    },
    {
     "name": "stderr",
     "output_type": "stream",
     "text": [
      "100% (833 of 833) |######################| Elapsed Time: 0:09:37 Time:  0:09:37\n"
     ]
    },
    {
     "name": "stdout",
     "output_type": "stream",
     "text": [
      "The condition number of this iteration is: 31.038386272269086\n"
     ]
    },
    {
     "name": "stderr",
     "output_type": "stream",
     "text": [
      "100% (832 of 832) |######################| Elapsed Time: 0:09:49 Time:  0:09:49\n"
     ]
    },
    {
     "name": "stdout",
     "output_type": "stream",
     "text": [
      "The condition number of this iteration is: 30.87911122139734\n"
     ]
    },
    {
     "name": "stderr",
     "output_type": "stream",
     "text": [
      "100% (831 of 831) |######################| Elapsed Time: 0:09:36 Time:  0:09:36\n"
     ]
    },
    {
     "name": "stdout",
     "output_type": "stream",
     "text": [
      "The condition number of this iteration is: 30.830366147029878\n"
     ]
    },
    {
     "name": "stderr",
     "output_type": "stream",
     "text": [
      "100% (830 of 830) |######################| Elapsed Time: 0:09:32 Time:  0:09:32\n"
     ]
    },
    {
     "name": "stdout",
     "output_type": "stream",
     "text": [
      "The condition number of this iteration is: 30.813922957338246\n"
     ]
    },
    {
     "name": "stderr",
     "output_type": "stream",
     "text": [
      "100% (829 of 829) |######################| Elapsed Time: 0:09:28 Time:  0:09:28\n"
     ]
    },
    {
     "name": "stdout",
     "output_type": "stream",
     "text": [
      "The condition number of this iteration is: 30.80222812661647\n"
     ]
    },
    {
     "name": "stderr",
     "output_type": "stream",
     "text": [
      "100% (828 of 828) |######################| Elapsed Time: 0:09:49 Time:  0:09:49\n"
     ]
    },
    {
     "name": "stdout",
     "output_type": "stream",
     "text": [
      "The condition number of this iteration is: 30.762265383874848\n"
     ]
    },
    {
     "name": "stderr",
     "output_type": "stream",
     "text": [
      "100% (827 of 827) |######################| Elapsed Time: 0:09:49 Time:  0:09:49\n"
     ]
    },
    {
     "name": "stdout",
     "output_type": "stream",
     "text": [
      "The condition number of this iteration is: 30.756112399905653\n"
     ]
    },
    {
     "name": "stderr",
     "output_type": "stream",
     "text": [
      "100% (826 of 826) |######################| Elapsed Time: 0:09:40 Time:  0:09:40\n"
     ]
    },
    {
     "name": "stdout",
     "output_type": "stream",
     "text": [
      "The condition number of this iteration is: 30.74732781732603\n"
     ]
    },
    {
     "name": "stderr",
     "output_type": "stream",
     "text": [
      "100% (825 of 825) |######################| Elapsed Time: 0:09:28 Time:  0:09:28\n"
     ]
    },
    {
     "name": "stdout",
     "output_type": "stream",
     "text": [
      "The condition number of this iteration is: 30.73320643442421\n"
     ]
    },
    {
     "name": "stderr",
     "output_type": "stream",
     "text": [
      "100% (824 of 824) |######################| Elapsed Time: 0:09:26 Time:  0:09:26\n"
     ]
    },
    {
     "name": "stdout",
     "output_type": "stream",
     "text": [
      "The condition number of this iteration is: 30.699152468562513\n"
     ]
    },
    {
     "name": "stderr",
     "output_type": "stream",
     "text": [
      "100% (823 of 823) |######################| Elapsed Time: 0:09:21 Time:  0:09:21\n"
     ]
    },
    {
     "name": "stdout",
     "output_type": "stream",
     "text": [
      "The condition number of this iteration is: 30.652380734534955\n"
     ]
    },
    {
     "name": "stderr",
     "output_type": "stream",
     "text": [
      "100% (822 of 822) |######################| Elapsed Time: 0:09:21 Time:  0:09:21\n"
     ]
    },
    {
     "name": "stdout",
     "output_type": "stream",
     "text": [
      "The condition number of this iteration is: 30.644152567214746\n"
     ]
    },
    {
     "name": "stderr",
     "output_type": "stream",
     "text": [
      "100% (821 of 821) |######################| Elapsed Time: 0:09:18 Time:  0:09:18\n"
     ]
    },
    {
     "name": "stdout",
     "output_type": "stream",
     "text": [
      "The condition number of this iteration is: 30.64235511009651\n"
     ]
    },
    {
     "name": "stderr",
     "output_type": "stream",
     "text": [
      "100% (820 of 820) |######################| Elapsed Time: 0:09:17 Time:  0:09:17\n"
     ]
    },
    {
     "name": "stdout",
     "output_type": "stream",
     "text": [
      "The condition number of this iteration is: 30.633506734998505\n"
     ]
    },
    {
     "name": "stderr",
     "output_type": "stream",
     "text": [
      "100% (819 of 819) |######################| Elapsed Time: 0:09:17 Time:  0:09:17\n"
     ]
    },
    {
     "name": "stdout",
     "output_type": "stream",
     "text": [
      "The condition number of this iteration is: 30.603331641683273\n"
     ]
    },
    {
     "name": "stderr",
     "output_type": "stream",
     "text": [
      "100% (818 of 818) |######################| Elapsed Time: 0:09:15 Time:  0:09:15\n"
     ]
    },
    {
     "name": "stdout",
     "output_type": "stream",
     "text": [
      "The condition number of this iteration is: 30.59648496332336\n"
     ]
    },
    {
     "name": "stderr",
     "output_type": "stream",
     "text": [
      "100% (817 of 817) |######################| Elapsed Time: 0:09:11 Time:  0:09:11\n"
     ]
    },
    {
     "name": "stdout",
     "output_type": "stream",
     "text": [
      "The condition number of this iteration is: 30.55164412814701\n"
     ]
    },
    {
     "name": "stderr",
     "output_type": "stream",
     "text": [
      "100% (816 of 816) |######################| Elapsed Time: 0:09:12 Time:  0:09:12\n"
     ]
    },
    {
     "name": "stdout",
     "output_type": "stream",
     "text": [
      "The condition number of this iteration is: 30.54494680371747\n"
     ]
    },
    {
     "name": "stderr",
     "output_type": "stream",
     "text": [
      "100% (815 of 815) |######################| Elapsed Time: 0:09:09 Time:  0:09:09\n"
     ]
    },
    {
     "name": "stdout",
     "output_type": "stream",
     "text": [
      "The condition number of this iteration is: 30.385216262276312\n"
     ]
    },
    {
     "name": "stderr",
     "output_type": "stream",
     "text": [
      "100% (814 of 814) |######################| Elapsed Time: 0:09:06 Time:  0:09:06\n"
     ]
    },
    {
     "name": "stdout",
     "output_type": "stream",
     "text": [
      "The condition number of this iteration is: 30.380242428712414\n"
     ]
    },
    {
     "name": "stderr",
     "output_type": "stream",
     "text": [
      "100% (813 of 813) |######################| Elapsed Time: 0:09:04 Time:  0:09:04\n"
     ]
    },
    {
     "name": "stdout",
     "output_type": "stream",
     "text": [
      "The condition number of this iteration is: 30.364088327821364\n"
     ]
    },
    {
     "name": "stderr",
     "output_type": "stream",
     "text": [
      "100% (812 of 812) |######################| Elapsed Time: 0:09:03 Time:  0:09:03\n"
     ]
    },
    {
     "name": "stdout",
     "output_type": "stream",
     "text": [
      "The condition number of this iteration is: 30.349574091635525\n"
     ]
    },
    {
     "name": "stderr",
     "output_type": "stream",
     "text": [
      "100% (811 of 811) |######################| Elapsed Time: 0:09:02 Time:  0:09:02\n"
     ]
    },
    {
     "name": "stdout",
     "output_type": "stream",
     "text": [
      "The condition number of this iteration is: 30.315323537934816\n"
     ]
    },
    {
     "name": "stderr",
     "output_type": "stream",
     "text": [
      "100% (810 of 810) |######################| Elapsed Time: 0:09:00 Time:  0:09:00\n"
     ]
    },
    {
     "name": "stdout",
     "output_type": "stream",
     "text": [
      "The condition number of this iteration is: 30.314340834770896\n"
     ]
    },
    {
     "name": "stderr",
     "output_type": "stream",
     "text": [
      "100% (809 of 809) |######################| Elapsed Time: 0:08:58 Time:  0:08:58\n"
     ]
    },
    {
     "name": "stdout",
     "output_type": "stream",
     "text": [
      "The condition number of this iteration is: 30.258727625329506\n"
     ]
    },
    {
     "name": "stderr",
     "output_type": "stream",
     "text": [
      "100% (808 of 808) |######################| Elapsed Time: 0:09:01 Time:  0:09:01\n"
     ]
    },
    {
     "name": "stdout",
     "output_type": "stream",
     "text": [
      "The condition number of this iteration is: 30.253485303337282\n"
     ]
    },
    {
     "name": "stderr",
     "output_type": "stream",
     "text": [
      "100% (807 of 807) |######################| Elapsed Time: 0:08:56 Time:  0:08:56\n"
     ]
    },
    {
     "name": "stdout",
     "output_type": "stream",
     "text": [
      "The condition number of this iteration is: 30.24661439522932\n"
     ]
    },
    {
     "name": "stderr",
     "output_type": "stream",
     "text": [
      "100% (806 of 806) |######################| Elapsed Time: 0:08:56 Time:  0:08:56\n"
     ]
    },
    {
     "name": "stdout",
     "output_type": "stream",
     "text": [
      "The condition number of this iteration is: 29.351846752477485\n",
      "['c-83', 'c-13', 'g-50', 'g-100', 'g-75', 'g-441', 'g-651', 'g-369', 'g-64', 'g-534', 'g-300', 'c-18', 'g-392', 'g-635', 'g-629', 'g-253', 'c-52', 'g-502', 'g-37', 'c-73', 'g-195', 'cp_dose', 'g-121', 'g-744', 'c-26', 'g-80', 'g-410', 'g-498', 'g-139', 'g-206', 'g-727', 'g-102', 'g-615', 'c-42', 'g-385', 'g-770', 'c-94', 'g-664', 'g-38', 'c-55', 'c-10', 'g-351', 'g-314', 'c-6', 'g-327', 'g-178', 'g-140', 'g-761', 'g-566', 'g-553', 'g-287', 'g-406', 'g-374', 'g-235', 'g-175', 'g-76', 'g-439', 'g-588', 'g-63', 'g-172', 'c-63', 'g-404', 'g-248', 'g-509', 'g-196', 'g-454', 'g-503', 'g-522', 'g-21', 'c-38']\n"
     ]
    }
   ],
   "source": [
    "#eliminate the highest VIF and see what the condition number was, then repeat:\n",
    "\n",
    "n = 100 #max number of columns to remove\n",
    "col_to_elim = [] #a list of column names which are eliminated in this process\n",
    "temp_data = X_train[:, 1:X_train.shape[0]] #Eliminate the bias column while we do this calculation\n",
    "col_names_data_temp = col_names_data.copy()\n",
    "\n",
    "#-----------\n",
    "#Dimensionality reduction using the VIF\n",
    "#Stopping criterian: if the condition number is less than 30 or if we have eliminated 100 columns (this is due to time constraints)\n",
    "#-----------\n",
    "for i in range(n):\n",
    "    topInd = np.argsort(vifs)[-1] #find the index of the highest VIF\n",
    "    col_to_elim.append(col_names_data_temp[topInd]) #record the name of the col to be eliminated\n",
    "    \n",
    "    #-----------\n",
    "    #Eliminate highest VIF column from both the column names and the temp data\n",
    "    #-----------\n",
    "    col_names_data_temp.pop(topInd) \n",
    "    relCols = [j for j in range(temp_data.shape[1]) if j != topInd] \n",
    "    temp_data = temp_data[:, relCols]\n",
    "    \n",
    "    #find an state the condition number\n",
    "    cond = np.linalg.cond(temp_data)\n",
    "    print(\"The condition number of this iteration is: \" + str(cond))\n",
    "    \n",
    "    #stopping condition\n",
    "    if cond < 30:\n",
    "        break\n",
    "    #calculate new VIFs\n",
    "    vifs = VIF(temp_data)\n",
    "print(col_to_elim)"
   ]
  },
  {
   "cell_type": "code",
   "execution_count": 20,
   "metadata": {},
   "outputs": [
    {
     "name": "stdout",
     "output_type": "stream",
     "text": [
      "Number of columns eliminated to acheive a condition number less than 30:\n",
      "70\n"
     ]
    }
   ],
   "source": [
    "col_to_elim = ['c-83', 'c-13', 'g-50', 'g-100', 'g-75', 'g-441', 'g-651', 'g-369', 'g-64', 'g-534', 'g-300', 'c-18', \n",
    "                'g-392', 'g-635', 'g-629', 'g-253', 'c-52', 'g-502', 'g-37', 'c-73', 'g-195', 'cp_dose', 'g-121', 'g-744', \n",
    "                'c-26', 'g-80', 'g-410', 'g-498', 'g-139', 'g-206', 'g-727', 'g-102', 'g-615', 'c-42', 'g-385', 'g-770', 'c-94', \n",
    "                'g-664', 'g-38', 'c-55', 'c-10', 'g-351', 'g-314', 'c-6', 'g-327', 'g-178', 'g-140', 'g-761', 'g-566', 'g-553', 'g-287', 'g-406', 'g-374', \n",
    "                'g-235', 'g-175', 'g-76', 'g-439', 'g-588', 'g-63', 'g-172', 'c-63', 'g-404', 'g-248', 'g-509', 'g-196', 'g-454', 'g-503', 'g-522', 'g-21', 'c-38']\n",
    "print(\"Number of columns eliminated to acheive a condition number less than 30:\")\n",
    "print(len(col_to_elim))"
   ]
  },
  {
   "cell_type": "code",
   "execution_count": 21,
   "metadata": {},
   "outputs": [
    {
     "name": "stderr",
     "output_type": "stream",
     "text": [
      "C:\\Users\\JAT\\anaconda3\\envs\\pytorch\\lib\\site-packages\\torch\\nn\\functional.py:1625: UserWarning: nn.functional.sigmoid is deprecated. Use torch.sigmoid instead.\n",
      "  warnings.warn(\"nn.functional.sigmoid is deprecated. Use torch.sigmoid instead.\")\n",
      "100% (10020 of 10020) |##################| Elapsed Time: 0:00:08 Time:  0:00:08\n",
      "N/A% (0 of 10020) |                      | Elapsed Time: 0:00:00 ETA:  --:--:--"
     ]
    },
    {
     "name": "stdout",
     "output_type": "stream",
     "text": [
      "The train statistics for fold 1 were:\n",
      "accuracy: 0.9971476949014593\n",
      "loss: 0.015840276557126803\n",
      "The train statistics for fold 1 were:\n",
      "accuracy: 0.9970562188401996\n",
      "loss: 0.018172875978052616\n"
     ]
    },
    {
     "name": "stderr",
     "output_type": "stream",
     "text": [
      "100% (10020 of 10020) |##################| Elapsed Time: 0:00:08 Time:  0:00:08\n",
      "  1% (118 of 10020) |                    | Elapsed Time: 0:00:00 ETA:   0:00:08"
     ]
    },
    {
     "name": "stdout",
     "output_type": "stream",
     "text": [
      "The train statistics for fold 2 were:\n",
      "accuracy: 0.9971352047119352\n",
      "loss: 0.01592043881209757\n",
      "The train statistics for fold 2 were:\n",
      "accuracy: 0.9971853680136444\n",
      "loss: 0.017392672220798763\n"
     ]
    },
    {
     "name": "stderr",
     "output_type": "stream",
     "text": [
      "100% (10020 of 10020) |##################| Elapsed Time: 0:00:08 Time:  0:00:08\n",
      "  1% (113 of 10020) |                    | Elapsed Time: 0:00:00 ETA:   0:00:08"
     ]
    },
    {
     "name": "stdout",
     "output_type": "stream",
     "text": [
      "The train statistics for fold 3 were:\n",
      "accuracy: 0.9971486032788792\n",
      "loss: 0.015854994797086467\n",
      "The train statistics for fold 3 were:\n",
      "accuracy: 0.9970582688270797\n",
      "loss: 0.018030608903515984\n"
     ]
    },
    {
     "name": "stderr",
     "output_type": "stream",
     "text": [
      "100% (10020 of 10020) |##################| Elapsed Time: 0:00:08 Time:  0:00:08\n",
      "N/A% (0 of 10020) |                      | Elapsed Time: 0:00:00 ETA:  --:--:--"
     ]
    },
    {
     "name": "stdout",
     "output_type": "stream",
     "text": [
      "The train statistics for fold 4 were:\n",
      "accuracy: 0.9971436072030696\n",
      "loss: 0.01583442405078136\n",
      "The train statistics for fold 4 were:\n",
      "accuracy: 0.997115668459722\n",
      "loss: 0.018159668187837343\n"
     ]
    },
    {
     "name": "stderr",
     "output_type": "stream",
     "text": [
      "100% (10020 of 10020) |##################| Elapsed Time: 0:00:08 Time:  0:00:08\n",
      "  1% (111 of 10020) |                    | Elapsed Time: 0:00:00 ETA:   0:00:08"
     ]
    },
    {
     "name": "stdout",
     "output_type": "stream",
     "text": [
      "The train statistics for fold 5 were:\n",
      "accuracy: 0.9971411091651649\n",
      "loss: 0.01587850388842161\n",
      "The train statistics for fold 5 were:\n",
      "accuracy: 0.9971546182104436\n",
      "loss: 0.017614141408656095\n"
     ]
    },
    {
     "name": "stderr",
     "output_type": "stream",
     "text": [
      "100% (10020 of 10020) |##################| Elapsed Time: 0:00:09 Time:  0:00:09\n",
      "N/A% (0 of 10020) |                      | Elapsed Time: 0:00:00 ETA:  --:--:--"
     ]
    },
    {
     "name": "stdout",
     "output_type": "stream",
     "text": [
      "The train statistics for fold 6 were:\n",
      "accuracy: 0.9971352047119354\n",
      "loss: 0.01591739144655848\n",
      "The train statistics for fold 6 were:\n",
      "accuracy: 0.997193567961165\n",
      "loss: 0.0174160413695751\n"
     ]
    },
    {
     "name": "stderr",
     "output_type": "stream",
     "text": [
      "100% (10020 of 10020) |##################| Elapsed Time: 0:00:09 Time:  0:00:09\n",
      "N/A% (0 of 10020) |                      | Elapsed Time: 0:00:00 ETA:  --:--:--"
     ]
    },
    {
     "name": "stdout",
     "output_type": "stream",
     "text": [
      "The train statistics for fold 7 were:\n",
      "accuracy: 0.9971406549764549\n",
      "loss: 0.015856526872912745\n",
      "The train statistics for fold 7 were:\n",
      "accuracy: 0.9971628181579638\n",
      "loss: 0.018024778622831847\n"
     ]
    },
    {
     "name": "stderr",
     "output_type": "stream",
     "text": [
      "100% (10020 of 10020) |##################| Elapsed Time: 0:00:10 Time:  0:00:10\n",
      "N/A% (0 of 10020) |                      | Elapsed Time: 0:00:00 ETA:  --:--:--"
     ]
    },
    {
     "name": "stdout",
     "output_type": "stream",
     "text": [
      "The train statistics for fold 8 were:\n",
      "accuracy: 0.9971554161095285\n",
      "loss: 0.015824282645041536\n",
      "The train statistics for fold 8 were:\n",
      "accuracy: 0.997023419050118\n",
      "loss: 0.01835083991691873\n"
     ]
    },
    {
     "name": "stderr",
     "output_type": "stream",
     "text": [
      "100% (10020 of 10020) |##################| Elapsed Time: 0:00:10 Time:  0:00:10\n",
      "N/A% (0 of 10020) |                      | Elapsed Time: 0:00:00 ETA:  --:--:--"
     ]
    },
    {
     "name": "stdout",
     "output_type": "stream",
     "text": [
      "The train statistics for fold 9 were:\n",
      "accuracy: 0.9971420175425847\n",
      "loss: 0.01584605443776546\n",
      "The train statistics for fold 9 were:\n",
      "accuracy: 0.9970767187090002\n",
      "loss: 0.018226616915214707\n"
     ]
    },
    {
     "name": "stderr",
     "output_type": "stream",
     "text": [
      "100% (10020 of 10020) |##################| Elapsed Time: 0:00:09 Time:  0:00:09\n"
     ]
    },
    {
     "name": "stdout",
     "output_type": "stream",
     "text": [
      "The train statistics for fold 10 were:\n",
      "accuracy: 0.9971495116562991\n",
      "loss: 0.015865012983830567\n",
      "The train statistics for fold 10 were:\n",
      "accuracy: 0.9970644187877198\n",
      "loss: 0.01789466938557657\n"
     ]
    }
   ],
   "source": [
    "#since I don't want to have to rerun the code above I will have to create another data set:\n",
    "ind_to_keep_bool = np.ones(data.shape[1], dtype = bool)\n",
    "for i in range(data.shape[1]):\n",
    "    if i != 0:\n",
    "        if col_names_data[i-1] in col_to_elim:\n",
    "            ind_to_keep_bool[i] = 0\n",
    "\n",
    "red_data = data[:, ind_to_keep_bool]\n",
    "\n",
    "#Find k folds for k-fold cross validation:\n",
    "kf = KFold(n_splits=10, random_state = 0, shuffle = True)\n",
    "kf.get_n_splits(red_data)\n",
    "kcross = kf.split(red_data, response) #creates an iteratable that we will use later\n",
    "\n",
    "fold = 1 #keeps track of which fold we are on\n",
    "\n",
    "#do training loop for each fold in the K-fold cross:\n",
    "for train_index, test_index in kcross:\n",
    "    X_train, X_test = red_data[train_index], red_data[test_index]\n",
    "    y_train, y_test = response[train_index], response[test_index]\n",
    "    \n",
    "    #Initialize necessary constants like batch size, etc as well as the model:\n",
    "    model = log_reg(red_data.shape[1], response.shape[1]).cuda() #again requires a working gpu\n",
    "    opt = torch.optim.Adam(model.parameters()) #Initializes and tells the optimizer what parameters to keep track of\n",
    "    batch_size = 64 #This could probably be increased, but 64 seems to work well enough\n",
    "    epochs = 30\n",
    "    loss = nn.BCELoss() #Binary cross entropy loss, the loss function defined in the write up\n",
    "    batchesPerEpoch = int(np.floor(X_train.shape[0]/batch_size))\n",
    "    \n",
    "    #-----------\n",
    "    #training loop\n",
    "    #-----------\n",
    "    with progressbar.ProgressBar(max_value=epochs*batchesPerEpoch) as bar:\n",
    "        for epoch in range(epochs):\n",
    "            for i in range(batchesPerEpoch):\n",
    "                opt.zero_grad()\n",
    "                batch_x = torch.from_numpy(X_train[i*batch_size:(i+1)*batch_size,:]).float().cuda()\n",
    "                batch_y = torch.from_numpy(y_train[i*batch_size:(i+1)*batch_size,:]).cuda()\n",
    "                #forward pass:\n",
    "                out = model(batch_x)\n",
    "                batch_loss = torch.mean(loss(out, batch_y.float()))\n",
    "                batch_loss.backward()\n",
    "                opt.step()\n",
    "                bar.update(i+batchesPerEpoch*epoch)\n",
    "    #-----------            \n",
    "    #Get train stats:\n",
    "    #-----------\n",
    "    accuracy = []\n",
    "    test_loss = []\n",
    "    model.eval()\n",
    "    with torch.no_grad():\n",
    "        for i in range(batchesPerEpoch):\n",
    "            batch_x = torch.from_numpy(X_train[i*batch_size:(i+1)*batch_size,:]).float().cuda()\n",
    "            batch_y = torch.from_numpy(y_train[i*batch_size:(i+1)*batch_size,:]).cuda()\n",
    "            out = model(batch_x)\n",
    "            test_loss.append(torch.mean(loss(out, batch_y.float())).item()) \n",
    "            accuracy.append(torch.sum(torch.round(out) == batch_y).item()/(out.shape[0]*out.shape[1]))\n",
    "    print(\"The train statistics for fold \" + str(fold) + \" were:\")\n",
    "    print(\"accuracy: \" + str(np.mean(accuracy)))\n",
    "    print(\"loss: \" + str(np.mean(test_loss)))    \n",
    "    \n",
    "    #-----------\n",
    "    #Get test stats:\n",
    "    #-----------\n",
    "    accuracy = []\n",
    "    test_loss = []\n",
    "    batches = int(np.floor(X_test.shape[0]/batch_size))\n",
    "    with torch.no_grad():\n",
    "        for i in range(batches):\n",
    "            batch_x = torch.from_numpy(X_test[i*batch_size:(i+1)*batch_size,:]).float().cuda()\n",
    "            batch_y = torch.from_numpy(y_test[i*batch_size:(i+1)*batch_size,:]).cuda()\n",
    "            out = model(batch_x)\n",
    "            test_loss.append(torch.mean(loss(out, batch_y.float())).item()) \n",
    "            accuracy.append(torch.sum(torch.round(out) == batch_y).item()/(out.shape[0]*out.shape[1]))\n",
    "    print(\"The train statistics for fold \" + str(fold) + \" were:\")\n",
    "    print(\"accuracy: \" + str(np.mean(accuracy)))\n",
    "    print(\"loss: \" + str(np.mean(test_loss)))  \n",
    "    fold += 1"
   ]
  },
  {
   "cell_type": "code",
   "execution_count": 22,
   "metadata": {},
   "outputs": [
    {
     "name": "stderr",
     "output_type": "stream",
     "text": [
      "100% (50 of 50) |########################| Elapsed Time: 0:08:09 Time:  0:08:09\n",
      "100% (10020 of 10020) |##################| Elapsed Time: 0:00:10 Time:  0:00:10\n"
     ]
    },
    {
     "name": "stdout",
     "output_type": "stream",
     "text": [
      "The train statistics for the full model:\n",
      "accuracy: 0.9971540535433987\n",
      "loss: 0.015822401142004363\n",
      "The train statistics for the full model were:\n",
      "accuracy: 0.9970582688270795\n",
      "loss: 0.01816255523747689\n",
      "The train statistics for the full model were:\n",
      "accuracy: 0.9970582688270795\n",
      "loss: 0.01816255523747689\n",
      "The lowest p-value:\n",
      "0.0\n",
      "The highest p-value:\n",
      "0.4999999211531815\n",
      "The proportion of parameters that are significant (across all models):\n",
      "0.7214158375292106\n",
      "The number of predictors that are non-significant in all models:\n",
      "0\n",
      "The number of predictors that are non-significant in all but 10 or less models:\n",
      "0\n",
      "The number of predictors that are non-significant in all but 50 or less models:\n",
      "74\n",
      "Number of insufficient models: 0\n",
      "The confusion matrix for this model on the train set is:\n",
      "[[21357.5631068    104.96116505]\n",
      " [  164.16990291   117.4223301 ]]\n",
      "The confusion matrix for this model on the test set is:\n",
      "[[2373.66019417  196.66019417]\n",
      " [ 203.49514563  197.90291262]]\n"
     ]
    }
   ],
   "source": [
    "# To get p-values of the coefficients we need standard errors, to do this we will use bootstrapping:\n",
    "n = 50 #number of bootstrapped samples to consider\n",
    "boot_coeff = torch.zeros(206,806,n) #3D array of coefficients dimension each slice along dim 2 is a mxn matrix of parameters\n",
    "\"\"\"\n",
    "generateBootSample -- generates a sample of rows from X and y with replacement\n",
    "\n",
    "@params -- X a numpy array to sample \n",
    "        -- y a second numpy array to generate the same sample from\n",
    "        -- size an int for the size of the bootstrapped sample\n",
    "\"\"\"\n",
    "def generateBootSample(X,y, size):\n",
    "    samples = torch.randint(0, int(X.shape[0]), (size, 1)).view(-1).numpy()\n",
    "    \n",
    "    return X[samples, :], y[samples,:]\n",
    "\n",
    "#-----------\n",
    "#train a model for each bootstrapped sample required, store the parameters in boot_coeff for each one\n",
    "#-----------\n",
    "with progressbar.ProgressBar(max_value=n) as bar:\n",
    "    for sample in range(n):\n",
    "        X_train, y_train = generateBootSample(red_data, response, int(red_data.shape[0]*9/10))\n",
    "        #Initialize necessary constants like batch size, etc as well as the model:\n",
    "        model = log_reg(red_data.shape[1], response.shape[1]).cuda()\n",
    "        opt = torch.optim.Adam(model.parameters())\n",
    "        batch_size = 64\n",
    "        epochs = 30\n",
    "        loss = nn.BCELoss()\n",
    "        batchesPerEpoch = int(np.floor(X_train.shape[0]/batch_size))\n",
    "\n",
    "        for epoch in range(epochs):\n",
    "            for i in range(batchesPerEpoch):\n",
    "                opt.zero_grad()\n",
    "                batch_x = torch.from_numpy(X_train[i*batch_size:(i+1)*batch_size,:]).float().cuda()\n",
    "                batch_y = torch.from_numpy(y_train[i*batch_size:(i+1)*batch_size,:]).cuda()\n",
    "                #forward pass:\n",
    "                out = model(batch_x)\n",
    "                batch_loss = torch.mean(loss(out, batch_y.float()))\n",
    "                batch_loss.backward()\n",
    "                opt.step()\n",
    "                \n",
    "        bar.update(sample)\n",
    "        for param in model.parameters():\n",
    "            boot_coeff[:,:,sample] = param.detach().cpu()\n",
    "standard_errors = torch.std(boot_coeff, dim = 2) #estimate the standard error of the coefficients using the bootstrapped sample\n",
    "\n",
    "#-----------\n",
    "#train a final model:\n",
    "#-----------\n",
    "from sklearn.model_selection import train_test_split\n",
    "X_train, X_test, y_train, y_test = train_test_split(red_data, response, test_size=0.1, random_state=0) #create a final split\n",
    "\n",
    "#Initialize necessary constants like batch size, etc as well as the model:\n",
    "model = log_reg(red_data.shape[1], response.shape[1]).cuda()\n",
    "opt = torch.optim.Adam(model.parameters())\n",
    "batch_size = 64\n",
    "epochs = 30\n",
    "loss = nn.BCELoss()\n",
    "batchesPerEpoch = int(np.floor(X_train.shape[0]/batch_size))\n",
    "\n",
    "#-----------\n",
    "#training loop\n",
    "#-----------\n",
    "with progressbar.ProgressBar(max_value=epochs*batchesPerEpoch) as bar:\n",
    "    for epoch in range(epochs):\n",
    "        for i in range(batchesPerEpoch):\n",
    "            opt.zero_grad()\n",
    "            batch_x = torch.from_numpy(X_train[i*batch_size:(i+1)*batch_size,:]).float().cuda()\n",
    "            batch_y = torch.from_numpy(y_train[i*batch_size:(i+1)*batch_size,:]).cuda()\n",
    "            #forward pass:\n",
    "            out = model(batch_x)\n",
    "            batch_loss = torch.mean(loss(out, batch_y.float()))\n",
    "            batch_loss.backward()\n",
    "            opt.step()\n",
    "            bar.update(i+batchesPerEpoch*epoch)\n",
    "\n",
    "#-----------\n",
    "#Get train stats:\n",
    "#-----------\n",
    "accuracy = []\n",
    "test_loss = []\n",
    "model.eval()\n",
    "pred_probs = np.zeros(y_train.shape)\n",
    "with torch.no_grad():\n",
    "    for i in range(batchesPerEpoch):\n",
    "        batch_x = torch.from_numpy(X_train[i*batch_size:(i+1)*batch_size,:]).float().cuda()\n",
    "        batch_y = torch.from_numpy(y_train[i*batch_size:(i+1)*batch_size,:]).cuda()\n",
    "        out = model(batch_x)\n",
    "        pred_probs[i*batch_size:(i+1)*batch_size,:] = out.cpu().numpy()\n",
    "        test_loss.append(torch.mean(loss(out, batch_y.float())).item()) \n",
    "        accuracy.append(torch.sum(torch.round(out) == batch_y).item()/(out.shape[0]*out.shape[1]))\n",
    "print(\"The train statistics for the full model:\")\n",
    "print(\"accuracy: \" + str(np.mean(accuracy)))\n",
    "print(\"loss: \" + str(np.mean(test_loss)))  \n",
    "\n",
    "#-----------\n",
    "#Get test stats:\n",
    "#-----------\n",
    "accuracy = []\n",
    "test_loss = []\n",
    "batches = int(np.floor(X_test.shape[0]/batch_size))\n",
    "pred_probs_test = np.zeros(y_test.shape)\n",
    "with torch.no_grad():\n",
    "    for i in range(batches):\n",
    "        batch_x = torch.from_numpy(X_test[i*batch_size:(i+1)*batch_size,:]).float().cuda()\n",
    "        batch_y = torch.from_numpy(y_test[i*batch_size:(i+1)*batch_size,:]).cuda()\n",
    "        out = model(batch_x)\n",
    "        pred_probs_test[i*batch_size:(i+1)*batch_size,:] = out.cpu().numpy()\n",
    "        test_loss.append(torch.mean(loss(out, batch_y.float())).item()) \n",
    "        accuracy.append(torch.sum(torch.round(out) == batch_y).item()/(out.shape[0]*out.shape[1]))\n",
    "print(\"The train statistics for the full model were:\")\n",
    "print(\"accuracy: \" + str(np.mean(accuracy)))\n",
    "print(\"loss: \" + str(np.mean(test_loss)))  \n",
    "\n",
    "#-----------\n",
    "#Get test stats:\n",
    "#-----------\n",
    "accuracy = []\n",
    "test_loss = []\n",
    "batches = int(np.floor(X_test.shape[0]/batch_size))\n",
    "with torch.no_grad():\n",
    "    for i in range(batches):\n",
    "        batch_x = torch.from_numpy(X_test[i*batch_size:(i+1)*batch_size,:]).float().cuda()\n",
    "        batch_y = torch.from_numpy(y_test[i*batch_size:(i+1)*batch_size,:]).cuda()\n",
    "        out = model(batch_x)\n",
    "        test_loss.append(torch.mean(loss(out, batch_y.float())).item()) \n",
    "        accuracy.append(torch.sum(torch.round(out) == batch_y).item()/(out.shape[0]*out.shape[1]))\n",
    "print(\"The train statistics for the full model were:\")\n",
    "print(\"accuracy: \" + str(np.mean(accuracy)))\n",
    "print(\"loss: \" + str(np.mean(test_loss)))  \n",
    "\n",
    "#-----------\n",
    "#get p-values for coefficients:\n",
    "#-----------\n",
    "#get z-scores of the paramters\n",
    "for param in model.parameters():\n",
    "    z_scores = torch.abs(torch.div(param.detach().cpu(), standard_errors)).numpy()\n",
    "\n",
    "#get the p-values\n",
    "from scipy.stats import norm\n",
    "p_vals = 1 - norm.cdf(z_scores)\n",
    "\n",
    "print(\"The lowest p-value:\")\n",
    "print(np.min(p_vals))\n",
    "print(\"The highest p-value:\")\n",
    "print(np.max(p_vals))\n",
    "print(\"The proportion of parameters that are significant (across all models):\")\n",
    "print(np.sum(p_vals < .05)/(p_vals.shape[0]*p_vals.shape[1]))\n",
    "\n",
    "count = 0\n",
    "for i in range(p_vals.shape[1]):\n",
    "    if np.sum(p_vals[:,i]<.05) == 0:\n",
    "        count += 1\n",
    "print(\"The number of predictors that are non-significant in all models:\")\n",
    "print(count)\n",
    "count = 0\n",
    "for i in range(p_vals.shape[1]):\n",
    "    if np.sum(p_vals[:,i]<.05) <= 10:\n",
    "        count += 1\n",
    "print(\"The number of predictors that are non-significant in all but 10 or less models:\")\n",
    "print(count)\n",
    "\n",
    "count = 0\n",
    "for i in range(p_vals.shape[1]):\n",
    "    if np.sum(p_vals[:,i]<.05) <= 50:\n",
    "        count += 1\n",
    "print(\"The number of predictors that are non-significant in all but 50 or less models:\")\n",
    "print(count)\n",
    "\n",
    "deviances = resid_dev(pred_probs, y_train) #find the residual deviances of the model\n",
    "\n",
    "#this is the residual deviance so we can construct chi squared tests for all of them (to see if the current model is sufficient)\n",
    "dof = response.shape[0] - red_data.shape[1] #degrees of freedom\n",
    "\n",
    "#-----------\n",
    "#Do the chi-squared test for model sufficiency\n",
    "#-----------\n",
    "from scipy.stats import chi2\n",
    "test_pvals = 1-chi2.cdf(deviances, dof)\n",
    "print(\"Number of insufficient models: \" + str(np.sum(test_pvals<.05)))\n",
    "\n",
    "conf_matrix = np.zeros((2,2,pred_probs.shape[1]))\n",
    "for i in range(pred_probs.shape[1]):\n",
    "    conf_matrix[:,:,i] = confusion_matrix(y_train[:,i], np.round(pred_probs[:,i]))\n",
    "print(\"The confusion matrix for this model on the train set is:\")\n",
    "print(np.mean(conf_matrix, axis = 2))\n",
    "\n",
    "conf_matrix = np.zeros((2,2,pred_probs_test.shape[1]))\n",
    "for i in range(pred_probs_test.shape[1]):\n",
    "    conf_matrix[:,:,i] = confusion_matrix(y_test[:,i], np.round(pred_probs_test[:,i]))\n",
    "print(\"The confusion matrix for this model on the test set is:\")\n",
    "print(np.mean(conf_matrix, axis = 2))"
   ]
  },
  {
   "cell_type": "markdown",
   "metadata": {},
   "source": [
    "# Faster Dim Reducation using Lasso"
   ]
  },
  {
   "cell_type": "code",
   "execution_count": 4,
   "metadata": {},
   "outputs": [
    {
     "name": "stderr",
     "output_type": "stream",
     "text": [
      "C:\\Users\\JAT\\anaconda3\\envs\\pytorch\\lib\\site-packages\\torch\\nn\\functional.py:1625: UserWarning: nn.functional.sigmoid is deprecated. Use torch.sigmoid instead.\n",
      "  warnings.warn(\"nn.functional.sigmoid is deprecated. Use torch.sigmoid instead.\")\n",
      "100% (33400 of 33400) |##################| Elapsed Time: 0:00:52 Time:  0:00:52\n",
      "N/A% (0 of 33400) |                      | Elapsed Time: 0:00:00 ETA:  --:--:--"
     ]
    },
    {
     "name": "stdout",
     "output_type": "stream",
     "text": [
      "The train statistics for fold 1 where:\n",
      "accuracy: 0.9965692855793269\n",
      "loss: 0.23948609190965128\n",
      "The train statistics for fold 1 where:\n",
      "accuracy: 0.9965375721595382\n",
      "loss: 0.23953108449239988\n"
     ]
    },
    {
     "name": "stderr",
     "output_type": "stream",
     "text": [
      "100% (33400 of 33400) |##################| Elapsed Time: 0:00:52 Time:  0:00:52\n",
      "N/A% (0 of 33400) |                      | Elapsed Time: 0:00:00 ETA:  --:--:--"
     ]
    },
    {
     "name": "stdout",
     "output_type": "stream",
     "text": [
      "The train statistics for fold 2 where:\n",
      "accuracy: 0.9965672417301321\n",
      "loss: 0.23949746631398172\n",
      "The train statistics for fold 2 where:\n",
      "accuracy: 0.9965560220414589\n",
      "loss: 0.2395093598075815\n"
     ]
    },
    {
     "name": "stderr",
     "output_type": "stream",
     "text": [
      "100% (33400 of 33400) |##################| Elapsed Time: 0:00:53 Time:  0:00:53\n",
      "N/A% (0 of 33400) |                      | Elapsed Time: 0:00:00 ETA:  --:--:--"
     ]
    },
    {
     "name": "stdout",
     "output_type": "stream",
     "text": [
      "The train statistics for fold 3 where:\n",
      "accuracy: 0.996565197880937\n",
      "loss: 0.2394983736340871\n",
      "The train statistics for fold 3 where:\n",
      "accuracy: 0.9965744719233798\n",
      "loss: 0.23948241729994077\n"
     ]
    },
    {
     "name": "stderr",
     "output_type": "stream",
     "text": [
      "100% (33400 of 33400) |##################| Elapsed Time: 0:00:52 Time:  0:00:52\n",
      "N/A% (0 of 33400) |                      | Elapsed Time: 0:00:00 ETA:  --:--:--"
     ]
    },
    {
     "name": "stdout",
     "output_type": "stream",
     "text": [
      "The train statistics for fold 4 where:\n",
      "accuracy: 0.9965654249752922\n",
      "loss: 0.2394793821487598\n",
      "The train statistics for fold 4 where:\n",
      "accuracy: 0.9965683219627393\n",
      "loss: 0.23947950150515582\n"
     ]
    },
    {
     "name": "stderr",
     "output_type": "stream",
     "text": [
      "100% (33400 of 33400) |##################| Elapsed Time: 0:00:52 Time:  0:00:52\n",
      "N/A% (0 of 33400) |                      | Elapsed Time: 0:00:00 ETA:  --:--:--"
     ]
    },
    {
     "name": "stdout",
     "output_type": "stream",
     "text": [
      "The train statistics for fold 5 where:\n",
      "accuracy: 0.9965574766728679\n",
      "loss: 0.23952607315279054\n",
      "The train statistics for fold 5 where:\n",
      "accuracy: 0.9966441714773024\n",
      "loss: 0.23941944136812882\n"
     ]
    },
    {
     "name": "stderr",
     "output_type": "stream",
     "text": [
      "100% (33400 of 33400) |##################| Elapsed Time: 0:00:52 Time:  0:00:52\n",
      "N/A% (0 of 33400) |                      | Elapsed Time: 0:00:00 ETA:  --:--:--"
     ]
    },
    {
     "name": "stdout",
     "output_type": "stream",
     "text": [
      "The train statistics for fold 6 where:\n",
      "accuracy: 0.9965636082204523\n",
      "loss: 0.2394842043697477\n",
      "The train statistics for fold 6 where:\n",
      "accuracy: 0.9965929218053005\n",
      "loss: 0.23944164570924398\n"
     ]
    },
    {
     "name": "stderr",
     "output_type": "stream",
     "text": [
      "100% (33400 of 33400) |##################| Elapsed Time: 0:00:52 Time:  0:00:52\n",
      "  0% (63 of 33400) |                     | Elapsed Time: 0:00:00 ETA:   0:00:53"
     ]
    },
    {
     "name": "stdout",
     "output_type": "stream",
     "text": [
      "The train statistics for fold 7 where:\n",
      "accuracy: 0.9965617914656125\n",
      "loss: 0.23948985382825314\n",
      "The train statistics for fold 7 where:\n",
      "accuracy: 0.9966011217528208\n",
      "loss: 0.23944759932724205\n"
     ]
    },
    {
     "name": "stderr",
     "output_type": "stream",
     "text": [
      "100% (33400 of 33400) |##################| Elapsed Time: 0:00:53 Time:  0:00:53\n",
      "N/A% (0 of 33400) |                      | Elapsed Time: 0:00:00 ETA:  --:--:--"
     ]
    },
    {
     "name": "stdout",
     "output_type": "stream",
     "text": [
      "The train statistics for fold 8 where:\n",
      "accuracy: 0.9965699668623917\n",
      "loss: 0.2394895251104218\n",
      "The train statistics for fold 8 where:\n",
      "accuracy: 0.9965293722120177\n",
      "loss: 0.2395499376831828\n"
     ]
    },
    {
     "name": "stderr",
     "output_type": "stream",
     "text": [
      "100% (33400 of 33400) |##################| Elapsed Time: 0:00:54 Time:  0:00:54\n",
      "N/A% (0 of 33400) |                      | Elapsed Time: 0:00:00 ETA:  --:--:--"
     ]
    },
    {
     "name": "stdout",
     "output_type": "stream",
     "text": [
      "The train statistics for fold 9 where:\n",
      "accuracy: 0.9965690584849718\n",
      "loss: 0.23947146343078443\n",
      "The train statistics for fold 9 where:\n",
      "accuracy: 0.9965396221464181\n",
      "loss: 0.23951299528817874\n"
     ]
    },
    {
     "name": "stderr",
     "output_type": "stream",
     "text": [
      "100% (33400 of 33400) |##################| Elapsed Time: 0:00:54 Time:  0:00:54\n"
     ]
    },
    {
     "name": "stdout",
     "output_type": "stream",
     "text": [
      "The train statistics for fold 10 where:\n",
      "accuracy: 0.9965729190890064\n",
      "loss: 0.23946867196145885\n",
      "The train statistics for fold 10 where:\n",
      "accuracy: 0.9965109223300967\n",
      "loss: 0.23953692373391744\n"
     ]
    }
   ],
   "source": [
    "#Find k folds for k-fold cross validation:\n",
    "kf = KFold(n_splits=10, random_state = 0, shuffle = True)\n",
    "kf.get_n_splits(data)\n",
    "kcross = kf.split(data, response)\n",
    "import progressbar\n",
    "fold = 1\n",
    "\n",
    "#-----------\n",
    "#do training loop for each fold in the K-fold cross:\n",
    "#-----------\n",
    "for train_index, test_index in kcross:\n",
    "    X_train, X_test = data[train_index], data[test_index]\n",
    "    y_train, y_test = response[train_index], response[test_index]\n",
    "    \n",
    "    #Initialize necessary constants like batch size, etc as well as the model:\n",
    "    model = log_reg(data.shape[1], response.shape[1]).cuda()\n",
    "    opt = torch.optim.Adam(model.parameters())\n",
    "    batch_size = 64\n",
    "    epochs = 100\n",
    "    loss = nn.BCELoss()\n",
    "    l1 = torch.nn.L1Loss(size_average=False)\n",
    "    batchesPerEpoch = int(np.floor(X_train.shape[0]/batch_size))\n",
    "    with progressbar.ProgressBar(max_value=epochs*batchesPerEpoch) as bar:\n",
    "        for epoch in range(epochs):\n",
    "            for i in range(batchesPerEpoch):\n",
    "                opt.zero_grad()\n",
    "                batch_x = torch.from_numpy(X_train[i*batch_size:(i+1)*batch_size,:]).float().cuda()\n",
    "                batch_y = torch.from_numpy(y_train[i*batch_size:(i+1)*batch_size,:]).cuda()\n",
    "                #forward pass:\n",
    "                out = model(batch_x)\n",
    "                \n",
    "                #-----------\n",
    "                #create an l1 penalty for the loss\n",
    "                #-----------\n",
    "                l1_loss = 0\n",
    "                for param in model.parameters():\n",
    "                    l1_target = torch.zeros(param.shape).cuda()\n",
    "                    l1_loss += l1(param, l1_target)\n",
    "                scale_l1 = .001 #this is the lambda in the l1 penalty\n",
    "                batch_loss = torch.mean(loss(out, batch_y.float())) + scale_l1*l1_loss\n",
    "                \n",
    "                batch_loss.backward()\n",
    "                opt.step()\n",
    "                bar.update(i+batchesPerEpoch*epoch)\n",
    "                \n",
    "    #-----------\n",
    "    #Get train stats:\n",
    "    #-----------\n",
    "    accuracy = []\n",
    "    test_loss = []\n",
    "    model.eval()\n",
    "    with torch.no_grad():\n",
    "        for i in range(batchesPerEpoch):\n",
    "            batch_x = torch.from_numpy(X_train[i*batch_size:(i+1)*batch_size,:]).float().cuda()\n",
    "            batch_y = torch.from_numpy(y_train[i*batch_size:(i+1)*batch_size,:]).cuda()\n",
    "            out = model(batch_x)\n",
    "            test_loss.append(torch.mean(loss(out, batch_y.float())).item()) \n",
    "            accuracy.append(torch.sum(torch.round(out) == batch_y).item()/(out.shape[0]*out.shape[1]))\n",
    "    print(\"The train statistics for fold \" + str(fold) + \" where:\")\n",
    "    print(\"accuracy: \" + str(np.mean(accuracy)))\n",
    "    print(\"loss: \" + str(np.mean(test_loss)))    \n",
    "    \n",
    "    #-----------\n",
    "    #Get test stats:\n",
    "    #-----------\n",
    "    accuracy = []\n",
    "    test_loss = []\n",
    "    batches = int(np.floor(X_test.shape[0]/batch_size))\n",
    "    with torch.no_grad():\n",
    "        for i in range(batches):\n",
    "            batch_x = torch.from_numpy(X_test[i*batch_size:(i+1)*batch_size,:]).float().cuda()\n",
    "            batch_y = torch.from_numpy(y_test[i*batch_size:(i+1)*batch_size,:]).cuda()\n",
    "            out = model(batch_x)\n",
    "            test_loss.append(torch.mean(loss(out, batch_y.float())).item()) \n",
    "            accuracy.append(torch.sum(torch.round(out) == batch_y).item()/(out.shape[0]*out.shape[1]))\n",
    "    print(\"The train statistics for fold \" + str(fold) + \" where:\")\n",
    "    print(\"accuracy: \" + str(np.mean(accuracy)))\n",
    "    print(\"loss: \" + str(np.mean(test_loss)))  \n",
    "    fold += 1\n",
    "    "
   ]
  },
  {
   "cell_type": "code",
   "execution_count": 9,
   "metadata": {},
   "outputs": [
    {
     "name": "stdout",
     "output_type": "stream",
     "text": [
      "Percentage of zeros in this parameter set:\n",
      "0.006766192312807554\n"
     ]
    }
   ],
   "source": [
    "for param in model.parameters():\n",
    "    temp = param.detach().cpu().numpy()\n",
    "    print(\"Percentage of zeros in this parameter set:\")\n",
    "    print(np.sum(np.isclose(temp, 0, atol = 1e-06))/(temp.shape[0]*temp.shape[1]))"
   ]
  },
  {
   "cell_type": "code",
   "execution_count": 13,
   "metadata": {},
   "outputs": [
    {
     "name": "stderr",
     "output_type": "stream",
     "text": [
      "100% (33400 of 33400) |##################| Elapsed Time: 0:00:59 Time:  0:00:59\n",
      "N/A% (0 of 33400) |                      | Elapsed Time: 0:00:00 ETA:  --:--:--"
     ]
    },
    {
     "name": "stdout",
     "output_type": "stream",
     "text": [
      "The train statistics for fold 1 where:\n",
      "accuracy: 0.996963067190861\n",
      "loss: 0.018101531683194068\n",
      "The train statistics for fold 1 where:\n",
      "accuracy: 0.9969270696667539\n",
      "loss: 0.018469580449163914\n"
     ]
    },
    {
     "name": "stderr",
     "output_type": "stream",
     "text": [
      "100% (33400 of 33400) |##################| Elapsed Time: 0:00:58 Time:  0:00:58\n",
      "N/A% (0 of 33400) |                      | Elapsed Time: 0:00:00 ETA:  --:--:--"
     ]
    },
    {
     "name": "stdout",
     "output_type": "stream",
     "text": [
      "The train statistics for fold 2 where:\n",
      "accuracy: 0.9969508040956921\n",
      "loss: 0.01817018351333584\n",
      "The train statistics for fold 2 where:\n",
      "accuracy: 0.9970213690632381\n",
      "loss: 0.018039979317502397\n"
     ]
    },
    {
     "name": "stderr",
     "output_type": "stream",
     "text": [
      "100% (33400 of 33400) |##################| Elapsed Time: 0:01:02 Time:  0:01:02\n",
      "N/A% (0 of 33400) |                      | Elapsed Time: 0:00:00 ETA:  --:--:--"
     ]
    },
    {
     "name": "stdout",
     "output_type": "stream",
     "text": [
      "The train statistics for fold 3 where:\n",
      "accuracy: 0.9969596607755363\n",
      "loss: 0.018146387987329576\n",
      "The train statistics for fold 3 where:\n",
      "accuracy: 0.9969434695617947\n",
      "loss: 0.01806398800800781\n"
     ]
    },
    {
     "name": "stderr",
     "output_type": "stream",
     "text": [
      "100% (33400 of 33400) |##################| Elapsed Time: 0:00:59 Time:  0:00:59\n",
      "N/A% (0 of 33400) |                      | Elapsed Time: 0:00:00 ETA:  --:--:--"
     ]
    },
    {
     "name": "stdout",
     "output_type": "stream",
     "text": [
      "The train statistics for fold 4 where:\n",
      "accuracy: 0.996959433681181\n",
      "loss: 0.01812299818335893\n",
      "The train statistics for fold 4 where:\n",
      "accuracy: 0.9969475695355549\n",
      "loss: 0.01822873021199091\n"
     ]
    },
    {
     "name": "stderr",
     "output_type": "stream",
     "text": [
      "100% (33400 of 33400) |##################| Elapsed Time: 0:01:02 Time:  0:01:02\n",
      "N/A% (0 of 33400) |                      | Elapsed Time: 0:00:00 ETA:  --:--:--"
     ]
    },
    {
     "name": "stdout",
     "output_type": "stream",
     "text": [
      "The train statistics for fold 5 where:\n",
      "accuracy: 0.9969521666618221\n",
      "loss: 0.018125124808267026\n",
      "The train statistics for fold 5 where:\n",
      "accuracy: 0.9970049691681971\n",
      "loss: 0.018184709941615928\n"
     ]
    },
    {
     "name": "stderr",
     "output_type": "stream",
     "text": [
      "100% (33400 of 33400) |##################| Elapsed Time: 0:01:01 Time:  0:01:01\n",
      "N/A% (0 of 33400) |                      | Elapsed Time: 0:00:00 ETA:  --:--:--"
     ]
    },
    {
     "name": "stdout",
     "output_type": "stream",
     "text": [
      "The train statistics for fold 6 where:\n",
      "accuracy: 0.996953075039242\n",
      "loss: 0.018190557683656315\n",
      "The train statistics for fold 6 where:\n",
      "accuracy: 0.9970070191550773\n",
      "loss: 0.01782207007243021\n"
     ]
    },
    {
     "name": "stderr",
     "output_type": "stream",
     "text": [
      "100% (33400 of 33400) |##################| Elapsed Time: 0:01:03 Time:  0:01:03\n",
      "N/A% (0 of 33400) |                      | Elapsed Time: 0:00:00 ETA:  --:--:--"
     ]
    },
    {
     "name": "stdout",
     "output_type": "stream",
     "text": [
      "The train statistics for fold 7 where:\n",
      "accuracy: 0.9969542105110167\n",
      "loss: 0.01813397277425417\n",
      "The train statistics for fold 7 where:\n",
      "accuracy: 0.9969885692731566\n",
      "loss: 0.01819022186100483\n"
     ]
    },
    {
     "name": "stderr",
     "output_type": "stream",
     "text": [
      "100% (33400 of 33400) |##################| Elapsed Time: 0:00:59 Time:  0:00:59\n",
      "  0% (56 of 33400) |                     | Elapsed Time: 0:00:00 ETA:   0:00:59"
     ]
    },
    {
     "name": "stdout",
     "output_type": "stream",
     "text": [
      "The train statistics for fold 8 where:\n",
      "accuracy: 0.9969648839457009\n",
      "loss: 0.01808035687381725\n",
      "The train statistics for fold 8 where:\n",
      "accuracy: 0.9968901699029128\n",
      "loss: 0.018620314957523667\n"
     ]
    },
    {
     "name": "stderr",
     "output_type": "stream",
     "text": [
      "100% (33400 of 33400) |##################| Elapsed Time: 0:00:58 Time:  0:00:58\n",
      "N/A% (0 of 33400) |                      | Elapsed Time: 0:00:00 ETA:  --:--:--"
     ]
    },
    {
     "name": "stdout",
     "output_type": "stream",
     "text": [
      "The train statistics for fold 9 where:\n",
      "accuracy: 0.9969653381344107\n",
      "loss: 0.0181316642709701\n",
      "The train statistics for fold 9 where:\n",
      "accuracy: 0.9968819699553922\n",
      "loss: 0.018370094306364253\n"
     ]
    },
    {
     "name": "stderr",
     "output_type": "stream",
     "text": [
      "100% (33400 of 33400) |##################| Elapsed Time: 0:00:58 Time:  0:00:58\n"
     ]
    },
    {
     "name": "stdout",
     "output_type": "stream",
     "text": [
      "The train statistics for fold 10 where:\n",
      "accuracy: 0.996961023341666\n",
      "loss: 0.018150247307215445\n",
      "The train statistics for fold 10 where:\n",
      "accuracy: 0.9969106697717136\n",
      "loss: 0.01811806668804304\n"
     ]
    }
   ],
   "source": [
    "#Find k folds for k-fold cross validation:\n",
    "kf = KFold(n_splits=10, random_state = 0, shuffle = True)\n",
    "kf.get_n_splits(data)\n",
    "kcross = kf.split(data, response)\n",
    "import progressbar\n",
    "fold = 1\n",
    "\n",
    "#-----------\n",
    "#do training loop for each fold in the K-fold cross:\n",
    "#-----------\n",
    "for train_index, test_index in kcross:\n",
    "    X_train, X_test = data[train_index], data[test_index]\n",
    "    y_train, y_test = response[train_index], response[test_index]\n",
    "    \n",
    "    #Initialize necessary constants like batch size, etc as well as the model:\n",
    "    model = log_reg(data.shape[1], response.shape[1]).cuda()\n",
    "    opt = torch.optim.Adam(model.parameters())\n",
    "    batch_size = 64\n",
    "    epochs = 100\n",
    "    loss = nn.BCELoss()\n",
    "    l1 = torch.nn.L1Loss(size_average=False)\n",
    "    batchesPerEpoch = int(np.floor(X_train.shape[0]/batch_size))\n",
    "    with progressbar.ProgressBar(max_value=epochs*batchesPerEpoch) as bar:\n",
    "        for epoch in range(epochs):\n",
    "            for i in range(batchesPerEpoch):\n",
    "                opt.zero_grad()\n",
    "                batch_x = torch.from_numpy(X_train[i*batch_size:(i+1)*batch_size,:]).float().cuda()\n",
    "                batch_y = torch.from_numpy(y_train[i*batch_size:(i+1)*batch_size,:]).cuda()\n",
    "                #forward pass:\n",
    "                out = model(batch_x)\n",
    "                \n",
    "                #-----------\n",
    "                #create an l1 penalty for the loss\n",
    "                #-----------\n",
    "                l1_loss = 0\n",
    "                for param in model.parameters():\n",
    "                    l1_target = torch.zeros(param.shape).cuda()\n",
    "                    l1_loss += l1(param, l1_target)\n",
    "                scale_l1 = .000001 #this is the lambda in the l1 penalty\n",
    "                batch_loss = torch.mean(loss(out, batch_y.float())) + scale_l1*l1_loss\n",
    "                \n",
    "                batch_loss.backward()\n",
    "                opt.step()\n",
    "                bar.update(i+batchesPerEpoch*epoch)\n",
    "                \n",
    "    #-----------\n",
    "    #Get train stats:\n",
    "    #-----------\n",
    "    accuracy = []\n",
    "    test_loss = []\n",
    "    model.eval()\n",
    "    with torch.no_grad():\n",
    "        for i in range(batchesPerEpoch):\n",
    "            batch_x = torch.from_numpy(X_train[i*batch_size:(i+1)*batch_size,:]).float().cuda()\n",
    "            batch_y = torch.from_numpy(y_train[i*batch_size:(i+1)*batch_size,:]).cuda()\n",
    "            out = model(batch_x)\n",
    "            test_loss.append(torch.mean(loss(out, batch_y.float())).item()) \n",
    "            accuracy.append(torch.sum(torch.round(out) == batch_y).item()/(out.shape[0]*out.shape[1]))\n",
    "    print(\"The train statistics for fold \" + str(fold) + \" where:\")\n",
    "    print(\"accuracy: \" + str(np.mean(accuracy)))\n",
    "    print(\"loss: \" + str(np.mean(test_loss)))    \n",
    "    \n",
    "    #-----------\n",
    "    #Get test stats:\n",
    "    #-----------\n",
    "    accuracy = []\n",
    "    test_loss = []\n",
    "    batches = int(np.floor(X_test.shape[0]/batch_size))\n",
    "    with torch.no_grad():\n",
    "        for i in range(batches):\n",
    "            batch_x = torch.from_numpy(X_test[i*batch_size:(i+1)*batch_size,:]).float().cuda()\n",
    "            batch_y = torch.from_numpy(y_test[i*batch_size:(i+1)*batch_size,:]).cuda()\n",
    "            out = model(batch_x)\n",
    "            test_loss.append(torch.mean(loss(out, batch_y.float())).item()) \n",
    "            accuracy.append(torch.sum(torch.round(out) == batch_y).item()/(out.shape[0]*out.shape[1]))\n",
    "    print(\"The train statistics for fold \" + str(fold) + \" where:\")\n",
    "    print(\"accuracy: \" + str(np.mean(accuracy)))\n",
    "    print(\"loss: \" + str(np.mean(test_loss)))  \n",
    "    fold += 1"
   ]
  },
  {
   "cell_type": "code",
   "execution_count": 16,
   "metadata": {},
   "outputs": [
    {
     "name": "stdout",
     "output_type": "stream",
     "text": [
      "Number of zeros in the parameter set:\n",
      "545\n",
      "Proportion of zeros in this parameter set:\n",
      "0.0030201267899100056\n"
     ]
    }
   ],
   "source": [
    "for param in model.parameters():\n",
    "    temp = param.detach().cpu().numpy()\n",
    "    print(\"Number of zeros in the parameter set:\")\n",
    "    print(np.sum(np.isclose(temp, 0, atol = 1e-06)))\n",
    "    print(\"Proportion of zeros in this parameter set:\")\n",
    "    print(np.sum(np.isclose(temp, 0, atol = 1e-06))/(temp.shape[0]*temp.shape[1]))"
   ]
  },
  {
   "cell_type": "code",
   "execution_count": null,
   "metadata": {},
   "outputs": [],
   "source": []
  }
 ],
 "metadata": {
  "kernelspec": {
   "display_name": "Python 3",
   "language": "python",
   "name": "python3"
  },
  "language_info": {
   "codemirror_mode": {
    "name": "ipython",
    "version": 3
   },
   "file_extension": ".py",
   "mimetype": "text/x-python",
   "name": "python",
   "nbconvert_exporter": "python",
   "pygments_lexer": "ipython3",
   "version": "3.8.8"
  }
 },
 "nbformat": 4,
 "nbformat_minor": 4
}
